{
 "cells": [
  {
   "cell_type": "code",
   "execution_count": null,
   "metadata": {
    "id": "c3_K0GGSTrhd"
   },
   "outputs": [],
   "source": [
    "# Copyright 2023 Google LLC\n",
    "#\n",
    "# Licensed under the Apache License, Version 2.0 (the \"License\");\n",
    "# you may not use this file except in compliance with the License.\n",
    "# You may obtain a copy of the License at\n",
    "#\n",
    "#     https://www.apache.org/licenses/LICENSE-2.0\n",
    "#\n",
    "# Unless required by applicable law or agreed to in writing, software\n",
    "# distributed under the License is distributed on an \"AS IS\" BASIS,\n",
    "# WITHOUT WARRANTIES OR CONDITIONS OF ANY KIND, either express or implied.\n",
    "# See the License for the specific language governing permissions and\n",
    "# limitations under the License."
   ]
  },
  {
   "cell_type": "markdown",
   "metadata": {
    "id": "7VQkf8sFTeDo"
   },
   "source": [
    "# Getting Started with Text Embeddings + Vertex AI Vector Search\n",
    "\n",
    "\n",
    "<table align=\"left\">\n",
    "  <td style=\"text-align: center\">\n",
    "    <a href=\"https://colab.research.google.com/github/GoogleCloudPlatform/generative-ai/blob/main/embeddings/intro-textemb-vectorsearch.ipynb\">\n",
    "      <img src=\"https://cloud.google.com/ml-engine/images/colab-logo-32px.png\" alt=\"Google Colaboratory logo\"><br> Run in Colab\n",
    "    </a>\n",
    "  </td>\n",
    "  <td style=\"text-align: center\">\n",
    "    <a href=\"https://github.com/GoogleCloudPlatform/generative-ai/blob/main/embeddings/intro-textemb-vectorsearch.ipynb\">\n",
    "      <img src=\"https://cloud.google.com/ml-engine/images/github-logo-32px.png\" alt=\"GitHub logo\"><br> View on GitHub\n",
    "    </a>\n",
    "  </td>\n",
    "  <td style=\"text-align: center\">\n",
    "    <a href=\"https://console.cloud.google.com/vertex-ai/workbench/deploy-notebook?download_url=https://raw.githubusercontent.com/GoogleCloudPlatform/generative-ai/blob/main/embeddings/intro-textemb-vectorsearch.ipynb\">\n",
    "      <img src=\"https://lh3.googleusercontent.com/UiNooY4LUgW_oTvpsNhPpQzsstV5W8F7rYgxgGBD85cWJoLmrOzhVs_ksK_vgx40SHs7jCqkTkCk=e14-rj-sc0xffffff-h130-w32\" alt=\"Vertex AI logo\"><br> Open in Vertex AI Workbench\n",
    "    </a>\n",
    "  </td>\n",
    "</table>"
   ]
  },
  {
   "cell_type": "markdown",
   "metadata": {},
   "source": [
    "| | |\n",
    "|-|-|\n",
    "|Author(s) | [Smitha Venkat](https://github.com/smitha-google), [Kaz Sato](https://github.com/kazunori279)|"
   ]
  },
  {
   "cell_type": "markdown",
   "metadata": {},
   "source": [
    "## Introduction\n",
    "\n",
    "In this tutorial, you learn how to use Google Cloud AI tools to quickly bring the power of Large Language Models to enterprise systems.  \n",
    "\n",
    "This tutorial covers the following -\n",
    "\n",
    "*   What are embeddings - what business challenges do they help solve ?\n",
    "*   Understanding Text with Vertex AI Text Embeddings\n",
    "*   Find Embeddings fast with Vertex AI Vector Search\n",
    "*   Grounding LLM outputs with Vector Search\n",
    "\n",
    "This tutorial is based on [the blog post](https://cloud.google.com/blog/products/ai-machine-learning/how-to-use-grounding-for-your-llms-with-text-embeddings), combined with sample code.\n",
    "\n",
    "\n",
    "### Prerequisites\n",
    "\n",
    "This tutorial is designed for developers who has basic knowledge and experience with Python programming and machine learning.\n",
    "\n",
    "If you are not reading this tutorial in Qwiklab, then you need to have a Google Cloud project that is linked to a billing account to run this. Please go through [this document](https://cloud.google.com/vertex-ai/docs/start/cloud-environment) to create a project and setup a billing account for it.\n",
    "\n",
    "### Choose the runtime environment\n",
    "\n",
    "The notebook can be run on either Google Colab or [Vertex AI Workbench](https://cloud.google.com/vertex-ai-workbench).\n",
    "\n",
    "- To use Colab: Click [this link](https://colab.research.google.com/github/GoogleCloudPlatform/generative-ai/blob/main/embeddings/intro-textemb-vectorsearch.ipynb) to open the tutorial in Colab.\n",
    "\n",
    "- To use Workbench: If it is the first time to use Workbench in your Google Cloud project, open [the Workbench console](https://console.cloud.google.com/vertex-ai/workbench) and click ENABLE button to enable Notebooks API. Then click [this link](https://console.cloud.google.com/vertex-ai/workbench/deploy-notebook?download_url=https://raw.githubusercontent.com/GoogleCloudPlatform/generative-ai/blob/main/embeddings/intro-textemb-vectorsearch.ipynb),  and select an existing notebook or create a new notebook.\n"
   ]
  },
  {
   "cell_type": "markdown",
   "metadata": {
    "id": "2pImjuenUIQz"
   },
   "source": [
    "### How much will this cost?\n",
    "\n",
    "In case you are using your own Cloud project, not a temporary project on Qwiklab, you need to spend roughly a few US dollars to finish this tutorial.\n",
    "\n",
    "The pricing of the Cloud services we will use in this tutorial are avilable in the following pages:\n",
    "\n",
    "- [Vertex AI Embeddings for Text](https://cloud.google.com/vertex-ai/pricing#generative_ai_models)\n",
    "- [Vertex AI Vector Search](https://cloud.google.com/vertex-ai/pricing#matchingengine)\n",
    "- [BigQuery](https://cloud.google.com/bigquery/pricing)\n",
    "- [Cloud Storage](https://cloud.google.com/storage/pricing)\n",
    "- [Vertex AI Workbench](https://cloud.google.com/vertex-ai/pricing#notebooks) if you use one\n",
    "\n",
    "You can use the [Pricing Calculator](https://cloud.google.com/products/calculator) to generate a cost estimate based on your projected usage. The following is an example of rough cost estimation with the calculator, assuming you will go through this tutorial a couple of time.\n",
    "\n",
    "<img src=\"https://storage.googleapis.com/github-repo/img/embeddings/vs-quickstart/pricing.png\" width=\"50%\"/>\n",
    "\n",
    "### **Warning: delete your objects after the tutorial**\n",
    "\n",
    "In case you are using your own Cloud project, please make sure to delete all the Indexes, Index Endpoints and Cloud Storage buckets (and the Workbench instance if you use one) after finishing this tutorial. Otherwise the remaining assets would incur unexpected costs.\n"
   ]
  },
  {
   "cell_type": "markdown",
   "metadata": {
    "id": "6Fu2OoUDTQ6w"
   },
   "source": [
    "# Bringing Gen AI and LLMs to production services\n",
    "\n",
    "Many people are now starting to think about how to bring Gen AI and LLMs to production services, and facing with several challenges.\n",
    "\n",
    "- \"How to integrate LLMs or AI chatbots with existing IT systems, databases and business data?\"\n",
    "- \"We have thousands of products. How can I let LLM memorize them all precisely?\"\n",
    "- \"How to handle the hallucination issues in AI chatbots to build a reliable service?\"\n",
    "\n",
    "Here is a quick solution: **grounding** with **embeddings** and **vector search**.\n",
    "\n",
    "What is grounding? What are embedding and vector search? In this tutorial, we will learn these crucial concepts to build reliable Gen AI services for enterprise use. But before we dive deeper, let's try the demo below."
   ]
  },
  {
   "cell_type": "markdown",
   "metadata": {
    "id": "ORqZYLgTm9pJ"
   },
   "source": [
    "![](https://storage.googleapis.com/gweb-cloudblog-publish/original_images/1._demo_animation.gif)\n",
    "\n",
    "**Exercise: Try the Stack Overflow semantic search demo:**\n",
    "\n",
    "This demo is available as a [public live demo](https://ai-demos.dev/). Select \"STACKOVERFLOW\" and enter any coding question as a query, so it runs a text search on **8 million** questions posted on [Stack Overflow](https://stackoverflow.com/). Try the text semantic search with some queries like 'How to shuffle rows in SQL?' or arbitrary programming questions.\n",
    "\n",
    "In this tutorial, we are going to see how to build a similar search experience - what is involved in building solutions like this using Vertex AI Embeddings API and Vector Search."
   ]
  },
  {
   "cell_type": "markdown",
   "metadata": {
    "id": "H1MAIOkCw35V"
   },
   "source": [
    "# What is Embeddings?\n",
    "\n",
    "With the rise of LLMs, why is it becoming important for IT engineers and ITDMs to understand how they work?\n",
    "\n",
    "In traditional IT systems, most data is organized as structured or tabular data, using simple keywords, labels, and categories in databases and search engines.\n",
    "\n",
    "![](https://storage.googleapis.com/github-repo/img/embeddings/textemb-vs-notebook/1.png)\n",
    "\n",
    "In contrast, AI-powered services arrange data into a simple data structure known as \"embeddings.\"\n",
    "\n",
    "![](https://storage.googleapis.com/github-repo/img/embeddings/textemb-vs-notebook/2.png)"
   ]
  },
  {
   "cell_type": "markdown",
   "metadata": {
    "id": "hJqjBmQsxz2Z"
   },
   "source": [
    "Once trained with specific content like text, images, or any content, AI creates a space called \"embedding space\", which is essentially a map of the content's meaning.\n",
    "\n",
    "![](https://storage.googleapis.com/github-repo/img/embeddings/textemb-vs-notebook/3.png)\n",
    "\n",
    "AI can identify the location of each content on the map, that's what embedding is.\n",
    "\n",
    "![](https://storage.googleapis.com/github-repo/img/embeddings/textemb-vs-notebook/4.png)\n",
    "\n",
    "Let's take an example where a text discusses movies, music, and actors, with a distribution of 10%, 2%, and 30%, respectively. In this case, the AI can create an embedding with three values: 0.1, 0.02, and 0.3, in 3 dimensional space.\n",
    "\n",
    "![](https://storage.googleapis.com/github-repo/img/embeddings/textemb-vs-notebook/5.png)\n",
    "\n",
    "AI can put content with similar meanings closely together in the space."
   ]
  },
  {
   "cell_type": "markdown",
   "metadata": {
    "id": "A5z7vyTyzk_4"
   },
   "source": [
    "This is how Google organizes data across various services like Google Search, YouTube, Play, and many others, to provide search results and recommendations with relevant content.\n",
    "\n",
    "Embeddings can also be used to represent different types of things in businesses, such as products, users, user activities, conversations, music & videos, signals from IoT sensors, and so on."
   ]
  },
  {
   "cell_type": "markdown",
   "metadata": {
    "id": "tpKVmyEe0ab9"
   },
   "source": [
    "AI and Embeddings are now playing a crucial role in creating a new way of human-computer interaction.\n",
    "\n",
    "![](https://storage.googleapis.com/github-repo/img/embeddings/textemb-vs-notebook/6.png)\n",
    "\n",
    "AI organizes data into embeddings, which represent what the user is looking for, the meaning of contents, or many other things you have in your business. This creates a new level of user experience that is becoming the new standard.\n",
    "\n",
    "To learn more about embeddings, [Foundational courses: Embeddings on Google Machine Learning Crush Course](https://developers.google.com/machine-learning/crash-course/embeddings/video-lecture) and [Meet AI’s multitool: Vector embeddings by Dale Markowitz](https://cloud.google.com/blog/topics/developers-practitioners/meet-ais-multitool-vector-embeddings) are great materials.\n",
    "\n"
   ]
  },
  {
   "cell_type": "markdown",
   "metadata": {
    "id": "ovQpiL2GUEXa"
   },
   "source": [
    "# Vertex AI Embeddings for Text\n",
    "\n",
    "With the [Vertex AI Embeddings for Text](https://cloud.google.com/vertex-ai/docs/generative-ai/embeddings/get-text-embeddings), you can easily create a text embedding with LLM. The product is also available on [Vertex AI Model Garden](https://cloud.google.com/model-garden)\n",
    "\n",
    "![](https://storage.googleapis.com/github-repo/img/embeddings/textemb-vs-notebook/7.png)\n",
    "\n",
    "This API is designed to extract embeddings from texts. It can take text input up to 3,072 input tokens, and outputs 768 dimensional text embeddings."
   ]
  },
  {
   "cell_type": "markdown",
   "metadata": {
    "id": "nwJHDPG7lU52"
   },
   "source": [
    "## LLM text embedding business use cases\n",
    "\n",
    "With the embedding API, you can apply the innovation of embeddings, combined with the LLM capability, to various text processing tasks, such as:\n",
    "\n",
    "**LLM-enabled Semantic Search**: text embeddings can be used to represent both the meaning and intent of a user's query and documents in the embedding space. Documents that have similar meaning to the user's query intent will be found fast with vector search technology. The model is capable of generating text embeddings that capture the subtle nuances of each sentence and paragraphs in the document.\n",
    "\n",
    "**LLM-enabled Text Classification**: LLM text embeddings can be used for text classification with a deep understanding of different contexts without any training or fine-tuning (so-called zero-shot learning). This wasn't possible with the past language models without task-specific training.\n",
    "\n",
    "**LLM-enabled Recommendation**: The text embedding can be used for recommendation systems as a strong feature for training recommendation models such as Two-Tower model. The model learns the relationship between the query and candidate embeddings, resulting in next-gen user experience with semantic product recommendation.\n",
    "\n",
    "LLM-enabled Clustering, Anomaly Detection, Sentiment Analysis, and more, can be also handled with the LLM-level deep semantics understanding.\n",
    "\n",
    "\n"
   ]
  },
  {
   "cell_type": "markdown",
   "metadata": {
    "id": "ga5A7koYlvlZ"
   },
   "source": [
    "## Sorting 8 million texts at \"librarian-level\" precision\n",
    "\n",
    "Vertex AI Embeddings for Text has an embedding space with 768 dimensions. As explained earlier, the space represents a huge map of a wide variety of texts in the world, organized by their meanings. With each input text, the model can find a location (embedding) in the map.\n",
    "\n",
    "By visualizing the embedding space, you can actually observe how the model sorts the texts at the \"librarian-level\" precision.\n",
    "\n",
    "**Exercise: Try the Nomic AI Atlas**\n",
    "\n",
    "[Nomic AI](http://nomic.ai/) provides a platform called Atlas for storing, visualizing and interacting with embedding spaces with high scalability and in a smooth UI, and they worked with Google for visualizing the embedding space of the 8 million Stack Overflow questions. You can try exploring around the space, zooming in and out to each data point on your browser on this page, courtesy of Nomic AI.\n",
    "\n",
    "The embedding space represents a huge map of texts, organized by their meanings\n",
    "With each input text, the model can find a location (embedding) in the map\n",
    "Like a librarian reading through millions of texts, sorting them with millions of nano-categories\n",
    "\n",
    "Try exploring it [here](https://atlas.nomic.ai/map/edaff028-12b5-42a0-8e8b-6430c9b8222b/bcb42818-3581-4fb5-ac30-9883d01f98ec). Zoom into a few categories, point each dots, and see how the LLM is sorting similar questions close together in the space.\n",
    "\n",
    "![](https://storage.googleapis.com/gweb-cloudblog-publish/images/4._Nomic_AI_Atlas.max-2200x2200.png)\n",
    "\n",
    "### The librarian-level semantic understanding\n",
    "\n",
    "Here are the examples of the librarian-level semantic understanding by Embeddings API with Stack Overflow questions.\n",
    "\n",
    "![](https://storage.googleapis.com/gweb-cloudblog-publish/images/5._semantic_understanding.max-2200x2200.png)\n",
    "\n",
    "For example, the model thinks the question “Does moving the request line to a header frame require an app change?” is similar to the question “Does an application developed on HTTP1x require modifications to run on HTTP2?”. That is because The model knows both questions talk about what's the change required to support the HTTP2 header frame.\n",
    "\n",
    "Note that this demo didn't require any training or fine-tuning with computer programming specific datasets. This is the innovative part of the zero-shot learning capability of the LLM. It can be applied to a wide variety of industries, including finance, healthcare, retail, manufacturing, construction, media, and more, for deep semantic search on the industry-focused business documents without spending time and cost for collecting industry specific datasets and training models."
   ]
  },
  {
   "cell_type": "markdown",
   "metadata": {
    "id": "-iOWOKnIvYxf"
   },
   "source": [
    "# Text Embeddings in Action\n",
    "\n",
    "Lets try using Text Embeddings in action with actual sample code."
   ]
  },
  {
   "cell_type": "markdown",
   "metadata": {
    "id": "AtXnXhF8U-8R"
   },
   "source": [
    "## Setup\n",
    "\n",
    "Before get started with the Vertex AI services, we need to setup the following.\n",
    "\n",
    "* Install Python SDK\n",
    "* Environment variables\n",
    "* Authentication (Colab only)\n",
    "* Enable APIs\n",
    "* Set IAM permissions"
   ]
  },
  {
   "cell_type": "markdown",
   "metadata": {
    "id": "UjnvWl6FLUlF"
   },
   "source": [
    "### Install Python SDK\n",
    "\n",
    "Vertex AI, Cloud Storage and BigQuery APIs can be accessed with multiple ways including REST API and Python SDK. In this tutorial we will use the SDK."
   ]
  },
  {
   "cell_type": "code",
   "execution_count": 2,
   "metadata": {
    "id": "FZgLGALt_al7"
   },
   "outputs": [
    {
     "name": "stdout",
     "output_type": "stream",
     "text": [
      "Requirement already satisfied: google-cloud-aiplatform in /home/peteryxu/CODE/gCloud/generative-ai/.venv/lib/python3.10/site-packages (1.38.1)\n",
      "Requirement already satisfied: google-cloud-storage in /home/peteryxu/CODE/gCloud/generative-ai/.venv/lib/python3.10/site-packages (2.14.0)\n",
      "Requirement already satisfied: google-cloud-bigquery[pandas] in /home/peteryxu/CODE/gCloud/generative-ai/.venv/lib/python3.10/site-packages (3.14.1)\n",
      "Requirement already satisfied: google-api-core!=2.0.*,!=2.1.*,!=2.2.*,!=2.3.*,!=2.4.*,!=2.5.*,!=2.6.*,!=2.7.*,<3.0.0dev,>=1.32.0 in /home/peteryxu/CODE/gCloud/generative-ai/.venv/lib/python3.10/site-packages (from google-api-core[grpc]!=2.0.*,!=2.1.*,!=2.2.*,!=2.3.*,!=2.4.*,!=2.5.*,!=2.6.*,!=2.7.*,<3.0.0dev,>=1.32.0->google-cloud-aiplatform) (2.15.0)\n",
      "Requirement already satisfied: proto-plus<2.0.0dev,>=1.22.0 in /home/peteryxu/CODE/gCloud/generative-ai/.venv/lib/python3.10/site-packages (from google-cloud-aiplatform) (1.23.0)\n",
      "Requirement already satisfied: protobuf!=3.20.0,!=3.20.1,!=4.21.0,!=4.21.1,!=4.21.2,!=4.21.3,!=4.21.4,!=4.21.5,<5.0.0dev,>=3.19.5 in /home/peteryxu/CODE/gCloud/generative-ai/.venv/lib/python3.10/site-packages (from google-cloud-aiplatform) (4.25.1)\n",
      "Requirement already satisfied: packaging>=14.3 in /home/peteryxu/CODE/gCloud/generative-ai/.venv/lib/python3.10/site-packages (from google-cloud-aiplatform) (23.2)\n",
      "Requirement already satisfied: google-cloud-resource-manager<3.0.0dev,>=1.3.3 in /home/peteryxu/CODE/gCloud/generative-ai/.venv/lib/python3.10/site-packages (from google-cloud-aiplatform) (1.11.0)\n",
      "Requirement already satisfied: shapely<3.0.0dev in /home/peteryxu/CODE/gCloud/generative-ai/.venv/lib/python3.10/site-packages (from google-cloud-aiplatform) (2.0.2)\n",
      "Requirement already satisfied: google-auth<3.0dev,>=2.23.3 in /home/peteryxu/CODE/gCloud/generative-ai/.venv/lib/python3.10/site-packages (from google-cloud-storage) (2.25.2)\n",
      "Requirement already satisfied: google-cloud-core<3.0dev,>=2.3.0 in /home/peteryxu/CODE/gCloud/generative-ai/.venv/lib/python3.10/site-packages (from google-cloud-storage) (2.4.1)\n",
      "Requirement already satisfied: google-resumable-media>=2.6.0 in /home/peteryxu/CODE/gCloud/generative-ai/.venv/lib/python3.10/site-packages (from google-cloud-storage) (2.7.0)\n",
      "Requirement already satisfied: requests<3.0.0dev,>=2.18.0 in /home/peteryxu/CODE/gCloud/generative-ai/.venv/lib/python3.10/site-packages (from google-cloud-storage) (2.31.0)\n",
      "Requirement already satisfied: google-crc32c<2.0dev,>=1.0 in /home/peteryxu/CODE/gCloud/generative-ai/.venv/lib/python3.10/site-packages (from google-cloud-storage) (1.5.0)\n",
      "Requirement already satisfied: python-dateutil<3.0dev,>=2.7.2 in /home/peteryxu/CODE/gCloud/generative-ai/.venv/lib/python3.10/site-packages (from google-cloud-bigquery[pandas]) (2.8.2)\n",
      "Collecting pandas>=1.1.0 (from google-cloud-bigquery[pandas])\n",
      "  Using cached pandas-2.1.4-cp310-cp310-manylinux_2_17_x86_64.manylinux2014_x86_64.whl.metadata (18 kB)\n",
      "Collecting pyarrow>=3.0.0 (from google-cloud-bigquery[pandas])\n",
      "  Downloading pyarrow-14.0.1-cp310-cp310-manylinux_2_28_x86_64.whl.metadata (3.0 kB)\n",
      "Collecting db-dtypes<2.0.0dev,>=0.3.0 (from google-cloud-bigquery[pandas])\n",
      "  Downloading db_dtypes-1.2.0-py2.py3-none-any.whl.metadata (3.0 kB)\n",
      "Requirement already satisfied: numpy>=1.16.6 in /home/peteryxu/CODE/gCloud/generative-ai/.venv/lib/python3.10/site-packages (from db-dtypes<2.0.0dev,>=0.3.0->google-cloud-bigquery[pandas]) (1.26.2)\n",
      "Requirement already satisfied: googleapis-common-protos<2.0.dev0,>=1.56.2 in /home/peteryxu/CODE/gCloud/generative-ai/.venv/lib/python3.10/site-packages (from google-api-core!=2.0.*,!=2.1.*,!=2.2.*,!=2.3.*,!=2.4.*,!=2.5.*,!=2.6.*,!=2.7.*,<3.0.0dev,>=1.32.0->google-api-core[grpc]!=2.0.*,!=2.1.*,!=2.2.*,!=2.3.*,!=2.4.*,!=2.5.*,!=2.6.*,!=2.7.*,<3.0.0dev,>=1.32.0->google-cloud-aiplatform) (1.62.0)\n",
      "Requirement already satisfied: grpcio<2.0dev,>=1.33.2 in /home/peteryxu/CODE/gCloud/generative-ai/.venv/lib/python3.10/site-packages (from google-api-core[grpc]!=2.0.*,!=2.1.*,!=2.2.*,!=2.3.*,!=2.4.*,!=2.5.*,!=2.6.*,!=2.7.*,<3.0.0dev,>=1.32.0->google-cloud-aiplatform) (1.60.0)\n",
      "Requirement already satisfied: grpcio-status<2.0.dev0,>=1.33.2 in /home/peteryxu/CODE/gCloud/generative-ai/.venv/lib/python3.10/site-packages (from google-api-core[grpc]!=2.0.*,!=2.1.*,!=2.2.*,!=2.3.*,!=2.4.*,!=2.5.*,!=2.6.*,!=2.7.*,<3.0.0dev,>=1.32.0->google-cloud-aiplatform) (1.60.0)\n",
      "Requirement already satisfied: cachetools<6.0,>=2.0.0 in /home/peteryxu/CODE/gCloud/generative-ai/.venv/lib/python3.10/site-packages (from google-auth<3.0dev,>=2.23.3->google-cloud-storage) (5.3.2)\n",
      "Requirement already satisfied: pyasn1-modules>=0.2.1 in /home/peteryxu/CODE/gCloud/generative-ai/.venv/lib/python3.10/site-packages (from google-auth<3.0dev,>=2.23.3->google-cloud-storage) (0.3.0)\n",
      "Requirement already satisfied: rsa<5,>=3.1.4 in /home/peteryxu/CODE/gCloud/generative-ai/.venv/lib/python3.10/site-packages (from google-auth<3.0dev,>=2.23.3->google-cloud-storage) (4.9)\n",
      "Requirement already satisfied: grpc-google-iam-v1<1.0.0dev,>=0.12.4 in /home/peteryxu/CODE/gCloud/generative-ai/.venv/lib/python3.10/site-packages (from google-cloud-resource-manager<3.0.0dev,>=1.3.3->google-cloud-aiplatform) (0.13.0)\n",
      "Collecting pytz>=2020.1 (from pandas>=1.1.0->google-cloud-bigquery[pandas])\n",
      "  Using cached pytz-2023.3.post1-py2.py3-none-any.whl.metadata (22 kB)\n",
      "Collecting tzdata>=2022.1 (from pandas>=1.1.0->google-cloud-bigquery[pandas])\n",
      "  Using cached tzdata-2023.3-py2.py3-none-any.whl (341 kB)\n",
      "Requirement already satisfied: six>=1.5 in /home/peteryxu/CODE/gCloud/generative-ai/.venv/lib/python3.10/site-packages (from python-dateutil<3.0dev,>=2.7.2->google-cloud-bigquery[pandas]) (1.16.0)\n",
      "Requirement already satisfied: charset-normalizer<4,>=2 in /home/peteryxu/CODE/gCloud/generative-ai/.venv/lib/python3.10/site-packages (from requests<3.0.0dev,>=2.18.0->google-cloud-storage) (3.3.2)\n",
      "Requirement already satisfied: idna<4,>=2.5 in /home/peteryxu/CODE/gCloud/generative-ai/.venv/lib/python3.10/site-packages (from requests<3.0.0dev,>=2.18.0->google-cloud-storage) (3.6)\n",
      "Requirement already satisfied: urllib3<3,>=1.21.1 in /home/peteryxu/CODE/gCloud/generative-ai/.venv/lib/python3.10/site-packages (from requests<3.0.0dev,>=2.18.0->google-cloud-storage) (2.1.0)\n",
      "Requirement already satisfied: certifi>=2017.4.17 in /home/peteryxu/CODE/gCloud/generative-ai/.venv/lib/python3.10/site-packages (from requests<3.0.0dev,>=2.18.0->google-cloud-storage) (2023.11.17)\n",
      "Requirement already satisfied: pyasn1<0.6.0,>=0.4.6 in /home/peteryxu/CODE/gCloud/generative-ai/.venv/lib/python3.10/site-packages (from pyasn1-modules>=0.2.1->google-auth<3.0dev,>=2.23.3->google-cloud-storage) (0.5.1)\n",
      "Downloading db_dtypes-1.2.0-py2.py3-none-any.whl (14 kB)\n",
      "Using cached pandas-2.1.4-cp310-cp310-manylinux_2_17_x86_64.manylinux2014_x86_64.whl (12.3 MB)\n",
      "Downloading pyarrow-14.0.1-cp310-cp310-manylinux_2_28_x86_64.whl (38.0 MB)\n",
      "\u001b[2K   \u001b[90m━━━━━━━━━━━━━━━━━━━━━━━━━━━━━━━━━━━━━━━━\u001b[0m \u001b[32m38.0/38.0 MB\u001b[0m \u001b[31m23.0 MB/s\u001b[0m eta \u001b[36m0:00:00\u001b[0m00:01\u001b[0m00:01\u001b[0m\n",
      "\u001b[?25hUsing cached pytz-2023.3.post1-py2.py3-none-any.whl (502 kB)\n",
      "Installing collected packages: pytz, tzdata, pyarrow, pandas, db-dtypes\n",
      "Successfully installed db-dtypes-1.2.0 pandas-2.1.4 pyarrow-14.0.1 pytz-2023.3.post1 tzdata-2023.3\n"
     ]
    }
   ],
   "source": [
    "!pip install --upgrade google-cloud-aiplatform google-cloud-storage 'google-cloud-bigquery[pandas]'"
   ]
  },
  {
   "cell_type": "markdown",
   "metadata": {
    "id": "uqWjsicWVM2v"
   },
   "source": [
    "To use the newly installed packages in this Jupyter runtime, we need to restart the runtime. You can do this by running the cell below, which will restart the current kernel."
   ]
  },
  {
   "cell_type": "code",
   "execution_count": 3,
   "metadata": {
    "id": "i6VvjArI_zIS"
   },
   "outputs": [
    {
     "data": {
      "text/plain": [
       "{'status': 'ok', 'restart': True}"
      ]
     },
     "execution_count": 3,
     "metadata": {},
     "output_type": "execute_result"
    },
    {
     "ename": "",
     "evalue": "",
     "output_type": "error",
     "traceback": [
      "\u001b[1;31mThe Kernel crashed while executing code in the the current cell or a previous cell. Please review the code in the cell(s) to identify a possible cause of the failure. Click <a href='https://aka.ms/vscodeJupyterKernelCrash'>here</a> for more info. View Jupyter <a href='command:jupyter.viewOutput'>log</a> for further details."
     ]
    }
   ],
   "source": [
    "# restart kernel after installs so that your environment can access the new packages\n",
    "import IPython\n",
    "\n",
    "app = IPython.Application.instance()\n",
    "app.kernel.do_shutdown(True)"
   ]
  },
  {
   "cell_type": "markdown",
   "metadata": {
    "id": "nCoTvkOJoh76"
   },
   "source": [
    "### Environment variables\n",
    "\n",
    "Sets environment variables. If asked, please replace the following `[your-project-id]` with your project ID and run it."
   ]
  },
  {
   "cell_type": "code",
   "execution_count": 1,
   "metadata": {
    "id": "fkmvFRrj3nQI"
   },
   "outputs": [],
   "source": [
    "# get project ID\n",
    "PROJECT_ID = ! gcloud config get project\n",
    "PROJECT_ID = PROJECT_ID[0]\n",
    "LOCATION = \"us-central1\"\n",
    "if PROJECT_ID == \"(unset)\":\n",
    "  print(f\"Please set the project ID manually below\")"
   ]
  },
  {
   "cell_type": "code",
   "execution_count": 2,
   "metadata": {
    "id": "69XJ95rNoYG9"
   },
   "outputs": [],
   "source": [
    "# define project information\n",
    "if PROJECT_ID == \"(unset)\":\n",
    "  PROJECT_ID = \"[your-project-id]\" # @param {type:\"string\"}\n",
    "\n",
    "# generate an unique id for this session\n",
    "from datetime import datetime\n",
    "UID = datetime.now().strftime(\"%m%d%H%M\")"
   ]
  },
  {
   "cell_type": "code",
   "execution_count": 4,
   "metadata": {},
   "outputs": [
    {
     "name": "stdout",
     "output_type": "stream",
     "text": [
      "Project ID: product1-dev-1108\n"
     ]
    }
   ],
   "source": [
    "print(f\"Project ID: {PROJECT_ID}\")"
   ]
  },
  {
   "cell_type": "markdown",
   "metadata": {
    "id": "ph7mDSMRVTIZ"
   },
   "source": [
    "### Authentication (Colab only)\n",
    "\n",
    "If you are running this notebook on Colab, you will need to run the following cell authentication. This step is not required if you are using Vertex AI Workbench as it is pre-authenticated."
   ]
  },
  {
   "cell_type": "code",
   "execution_count": null,
   "metadata": {
    "id": "5jQkFtlimNXR"
   },
   "outputs": [],
   "source": [
    "import sys\n",
    "\n",
    "# if it's Colab runtime, authenticate the user with Google Cloud\n",
    "if 'google.colab' in sys.modules:\n",
    "    from google.colab import auth\n",
    "    auth.authenticate_user()"
   ]
  },
  {
   "cell_type": "markdown",
   "metadata": {
    "id": "jUPbl4IFLmC2"
   },
   "source": [
    "### Enable APIs\n",
    "\n",
    "Run the following to enable APIs for Compute Engine, Vertex AI, Cloud Storage and BigQuery with this Google Cloud project."
   ]
  },
  {
   "cell_type": "code",
   "execution_count": 3,
   "metadata": {
    "id": "qGf0qMMQNond"
   },
   "outputs": [
    {
     "name": "stdout",
     "output_type": "stream",
     "text": [
      "Operation \"operations/acat.p2-754566683040-99ad9877-04d9-446f-9f2e-5821f55bd7f3\" finished successfully.\n"
     ]
    }
   ],
   "source": [
    "! gcloud services enable compute.googleapis.com aiplatform.googleapis.com storage.googleapis.com bigquery.googleapis.com --project {PROJECT_ID}"
   ]
  },
  {
   "cell_type": "markdown",
   "metadata": {
    "id": "8cF8rkN3Lnhq"
   },
   "source": [
    "### Set IAM permissions\n",
    "\n",
    "Also, we need to add access permissions to the default service account for using those services.\n",
    "\n",
    "- Go to [the IAM page](https://console.cloud.google.com/iam-admin/) in the Console\n",
    "- Look for the principal for default compute service account. It should look like: `<project-number>-compute@developer.gserviceaccount.com`\n",
    "- Click the edit button at right and click `ADD ANOTHER ROLE` to add `Vertex AI User`, `BigQuery User` and `Storage Admin` to the account.\n",
    "\n",
    "This will look like this:\n",
    "\n",
    "![](https://storage.googleapis.com/github-repo/img/embeddings/vs-quickstart/iam-setting.png)"
   ]
  },
  {
   "cell_type": "markdown",
   "metadata": {
    "id": "mahCxLXHMIls"
   },
   "source": [
    "## Getting Started with Vertex AI Embeddings for Text\n",
    "\n",
    "Now it's ready to get started with embeddings!"
   ]
  },
  {
   "cell_type": "markdown",
   "metadata": {
    "id": "rq07_-o0VoZD"
   },
   "source": [
    "### Data Preparation\n",
    "\n",
    "We will be using [the Stack Overflow public dataset](https://console.cloud.google.com/marketplace/product/stack-exchange/stack-overflow) hosted on BigQuery table `bigquery-public-data.stackoverflow.posts_questions`. This is a very big dataset with 23 million rows that doesn't fit into the memory. We are going to limit it to 1000 rows for this tutorial."
   ]
  },
  {
   "cell_type": "code",
   "execution_count": 11,
   "metadata": {
    "id": "snrzPsEQDH4S"
   },
   "outputs": [
    {
     "data": {
      "text/html": [
       "<div>\n",
       "<style scoped>\n",
       "    .dataframe tbody tr th:only-of-type {\n",
       "        vertical-align: middle;\n",
       "    }\n",
       "\n",
       "    .dataframe tbody tr th {\n",
       "        vertical-align: top;\n",
       "    }\n",
       "\n",
       "    .dataframe thead th {\n",
       "        text-align: right;\n",
       "    }\n",
       "</style>\n",
       "<table border=\"1\" class=\"dataframe\">\n",
       "  <thead>\n",
       "    <tr style=\"text-align: right;\">\n",
       "      <th></th>\n",
       "      <th>id</th>\n",
       "      <th>title</th>\n",
       "    </tr>\n",
       "  </thead>\n",
       "  <tbody>\n",
       "    <tr>\n",
       "      <th>0</th>\n",
       "      <td>35944455</td>\n",
       "      <td>What does bearer stand for?</td>\n",
       "    </tr>\n",
       "    <tr>\n",
       "      <th>1</th>\n",
       "      <td>36151178</td>\n",
       "      <td>Mercurial: \"no match found\" when performing me...</td>\n",
       "    </tr>\n",
       "    <tr>\n",
       "      <th>2</th>\n",
       "      <td>35808979</td>\n",
       "      <td>Pulling Sequelize Info from multiple tables</td>\n",
       "    </tr>\n",
       "    <tr>\n",
       "      <th>3</th>\n",
       "      <td>36233423</td>\n",
       "      <td>Spark reading python3 pickle as input</td>\n",
       "    </tr>\n",
       "    <tr>\n",
       "      <th>4</th>\n",
       "      <td>35911172</td>\n",
       "      <td>Aligning tumblr posts in masonry grid</td>\n",
       "    </tr>\n",
       "  </tbody>\n",
       "</table>\n",
       "</div>"
      ],
      "text/plain": [
       "         id                                              title\n",
       "0  35944455                        What does bearer stand for?\n",
       "1  36151178  Mercurial: \"no match found\" when performing me...\n",
       "2  35808979        Pulling Sequelize Info from multiple tables\n",
       "3  36233423              Spark reading python3 pickle as input\n",
       "4  35911172              Aligning tumblr posts in masonry grid"
      ]
     },
     "execution_count": 11,
     "metadata": {},
     "output_type": "execute_result"
    }
   ],
   "source": [
    "# load the BQ Table into a Pandas Dataframe\n",
    "import pandas as pd\n",
    "from google.cloud import bigquery\n",
    "\n",
    "#QUESTIONS_SIZE = 1000\n",
    "QUESTIONS_SIZE = 100\n",
    "\n",
    "bq_client = bigquery.Client(project = PROJECT_ID)\n",
    "QUERY_TEMPLATE = \"\"\"\n",
    "        SELECT distinct q.id, q.title\n",
    "        FROM (SELECT * FROM `bigquery-public-data.stackoverflow.posts_questions`\n",
    "        where Score > 0 ORDER BY View_Count desc) AS q\n",
    "        LIMIT {limit} ;\n",
    "        \"\"\"\n",
    "query = QUERY_TEMPLATE.format(limit = QUESTIONS_SIZE)\n",
    "query_job = bq_client.query(query)\n",
    "rows = query_job.result()\n",
    "df = rows.to_dataframe()\n",
    "\n",
    "# examine the data\n",
    "df.head()"
   ]
  },
  {
   "cell_type": "markdown",
   "metadata": {
    "id": "j6022U1FWzpb"
   },
   "source": [
    "### Call the API to generate embeddings\n",
    "\n",
    "With the Stack Overflow dataset, we will use the `title` column (the question title) and generate embedding for it with Embeddings for Text API. The API is available under the [vertexai](https://cloud.google.com/python/docs/reference/aiplatform/latest/vertexai) package of the SDK.\n",
    "\n",
    "You may see some warning messages from the TensorFlow library but you can ignore them."
   ]
  },
  {
   "cell_type": "code",
   "execution_count": 12,
   "metadata": {
    "id": "pY8M4DqO8wGx"
   },
   "outputs": [],
   "source": [
    "# init the vertexai package\n",
    "import vertexai\n",
    "vertexai.init(project=PROJECT_ID, location=LOCATION)"
   ]
  },
  {
   "cell_type": "markdown",
   "metadata": {
    "id": "jrG82n-y-EC5"
   },
   "source": [
    "From the package, import [TextEmbeddingModel](https://cloud.google.com/python/docs/reference/aiplatform/latest/vertexai.language_models.TextEmbeddingModel) and get a model."
   ]
  },
  {
   "cell_type": "code",
   "execution_count": 13,
   "metadata": {
    "id": "YVLHjSeOGoTu"
   },
   "outputs": [],
   "source": [
    "# Load the text embeddings model\n",
    "from vertexai.preview.language_models import TextEmbeddingModel\n",
    "model = TextEmbeddingModel.from_pretrained(\"textembedding-gecko@001\")"
   ]
  },
  {
   "cell_type": "markdown",
   "metadata": {
    "id": "FqdVsgZDb_hc"
   },
   "source": [
    "In this tutorial we will use `textembedding-gecko@001` model for getting text embeddings. Please take a look at [Supported models](https://cloud.google.com/vertex-ai/docs/generative-ai/embeddings/get-text-embeddings#supported_models) on the doc to see the list of supported models.\n",
    "\n",
    "Once you get the model, you can call its [get_embeddings](https://cloud.google.com/python/docs/reference/aiplatform/latest/vertexai.language_models.TextEmbeddingModel#vertexai_language_models_TextEmbeddingModel_get_embeddings) function to get embeddings. You can pass up to 5 texts at once in a call. But there is a caveat. By default, the text embeddings API has a \"request per minute\" quota set to 60 for new Cloud projects and 600 for projects with usage history (see [Quotas and limits](https://cloud.google.com/vertex-ai/docs/quotas#request_quotas) to check the latest quota value for `base_model:textembedding-gecko`). So, rather than using the function directly, you may want to define a wrapper like below to limit under 10 calls per second, and pass 5 texts each time."
   ]
  },
  {
   "cell_type": "code",
   "execution_count": 14,
   "metadata": {
    "id": "8HUb9u_P2VWW"
   },
   "outputs": [],
   "source": [
    "import time\n",
    "import tqdm # to show a progress bar\n",
    "\n",
    "# get embeddings for a list of texts\n",
    "BATCH_SIZE = 5\n",
    "def get_embeddings_wrapper(texts):\n",
    "\n",
    "  embs = []\n",
    "  for i in tqdm.tqdm(range(0, len(texts), BATCH_SIZE)):\n",
    "    time.sleep(1) # to avoid the quota error\n",
    "    result = model.get_embeddings(texts[i:i + BATCH_SIZE])\n",
    "    embs = embs + [e.values for e in result]\n",
    "  return embs"
   ]
  },
  {
   "cell_type": "markdown",
   "metadata": {
    "id": "aK4eTSPfcEuh"
   },
   "source": [
    "The following code will get embedding for the question titles and add them as a new column `embedding` to the DataFrame. This will take a few minutes."
   ]
  },
  {
   "cell_type": "code",
   "execution_count": 15,
   "metadata": {
    "id": "FcqPvu4PluN1"
   },
   "outputs": [
    {
     "name": "stderr",
     "output_type": "stream",
     "text": [
      "100%|██████████| 20/20 [00:21<00:00,  1.10s/it]\n"
     ]
    },
    {
     "data": {
      "text/html": [
       "<div>\n",
       "<style scoped>\n",
       "    .dataframe tbody tr th:only-of-type {\n",
       "        vertical-align: middle;\n",
       "    }\n",
       "\n",
       "    .dataframe tbody tr th {\n",
       "        vertical-align: top;\n",
       "    }\n",
       "\n",
       "    .dataframe thead th {\n",
       "        text-align: right;\n",
       "    }\n",
       "</style>\n",
       "<table border=\"1\" class=\"dataframe\">\n",
       "  <thead>\n",
       "    <tr style=\"text-align: right;\">\n",
       "      <th></th>\n",
       "      <th>id</th>\n",
       "      <th>title</th>\n",
       "      <th>embedding</th>\n",
       "    </tr>\n",
       "  </thead>\n",
       "  <tbody>\n",
       "    <tr>\n",
       "      <th>0</th>\n",
       "      <td>35944455</td>\n",
       "      <td>What does bearer stand for?</td>\n",
       "      <td>[0.03950486704707146, 0.03284553810954094, -0....</td>\n",
       "    </tr>\n",
       "    <tr>\n",
       "      <th>1</th>\n",
       "      <td>36151178</td>\n",
       "      <td>Mercurial: \"no match found\" when performing me...</td>\n",
       "      <td>[-0.017771488055586815, -0.02127893641591072, ...</td>\n",
       "    </tr>\n",
       "    <tr>\n",
       "      <th>2</th>\n",
       "      <td>35808979</td>\n",
       "      <td>Pulling Sequelize Info from multiple tables</td>\n",
       "      <td>[-0.026974156498908997, -0.0454503633081913, 0...</td>\n",
       "    </tr>\n",
       "    <tr>\n",
       "      <th>3</th>\n",
       "      <td>36233423</td>\n",
       "      <td>Spark reading python3 pickle as input</td>\n",
       "      <td>[-0.018700210377573967, -0.0105048893019557, -...</td>\n",
       "    </tr>\n",
       "    <tr>\n",
       "      <th>4</th>\n",
       "      <td>35911172</td>\n",
       "      <td>Aligning tumblr posts in masonry grid</td>\n",
       "      <td>[-0.014126591384410858, -0.01817886345088482, ...</td>\n",
       "    </tr>\n",
       "  </tbody>\n",
       "</table>\n",
       "</div>"
      ],
      "text/plain": [
       "         id                                              title  \\\n",
       "0  35944455                        What does bearer stand for?   \n",
       "1  36151178  Mercurial: \"no match found\" when performing me...   \n",
       "2  35808979        Pulling Sequelize Info from multiple tables   \n",
       "3  36233423              Spark reading python3 pickle as input   \n",
       "4  35911172              Aligning tumblr posts in masonry grid   \n",
       "\n",
       "                                           embedding  \n",
       "0  [0.03950486704707146, 0.03284553810954094, -0....  \n",
       "1  [-0.017771488055586815, -0.02127893641591072, ...  \n",
       "2  [-0.026974156498908997, -0.0454503633081913, 0...  \n",
       "3  [-0.018700210377573967, -0.0105048893019557, -...  \n",
       "4  [-0.014126591384410858, -0.01817886345088482, ...  "
      ]
     },
     "execution_count": 15,
     "metadata": {},
     "output_type": "execute_result"
    }
   ],
   "source": [
    "# get embeddings for the question titles and add them as \"embedding\" column\n",
    "df = df.assign(embedding=get_embeddings_wrapper(list(df.title)))\n",
    "df.head()"
   ]
  },
  {
   "cell_type": "markdown",
   "metadata": {
    "id": "nB53SiJjVN6e"
   },
   "source": [
    "## Look at the embedding similarities\n",
    "\n",
    "Let's see how these embeddings are organized in the embedding space with their meanings by quickly calculating the similarities between them and sorting them.\n",
    "\n",
    "As embeddings are vectors, you can calculate similarity between two embeddings by using one of the popular metrics like the followings:\n",
    "\n",
    "![](https://storage.googleapis.com/github-repo/img/embeddings/textemb-vs-notebook/8.png)\n",
    "\n",
    "Which metric should we use? Usually it depends on how each model is trained. In case of the model `textembedding-gecko@001`, we need to use inner product (dot product).\n",
    "\n",
    "In the following code, it picks up one question randomly and uses the numpy `np.dot` function to calculate the similarities between the question and other questions."
   ]
  },
  {
   "cell_type": "code",
   "execution_count": 16,
   "metadata": {
    "id": "lKs6jSu7NiM6"
   },
   "outputs": [
    {
     "data": {
      "text/plain": [
       "array([0.42510886, 0.53694959, 0.55984552, 0.58993012, 0.53613059])"
      ]
     },
     "execution_count": 16,
     "metadata": {},
     "output_type": "execute_result"
    }
   ],
   "source": [
    "import random\n",
    "import numpy as np\n",
    "\n",
    "# pick one of them as a key question\n",
    "key = random.randint(0, len(df))\n",
    "\n",
    "# calc dot product between the key and other questions\n",
    "embs = np.array(df.embedding.to_list())\n",
    "similarities = np.dot(embs[key], embs.T)\n",
    "\n",
    "# print similarities for the first 5 questions\n",
    "similarities[:5]"
   ]
  },
  {
   "cell_type": "markdown",
   "metadata": {
    "id": "srM04lJBQp4w"
   },
   "source": [
    "Finally, sort the questions with the similarities and print the list."
   ]
  },
  {
   "cell_type": "code",
   "execution_count": 17,
   "metadata": {
    "id": "lTUVvj9FQlab"
   },
   "outputs": [
    {
     "name": "stdout",
     "output_type": "stream",
     "text": [
      "Key question: GET request working through Python but not through Postman\n",
      "\n",
      "1.0000 GET request working through Python but not through Postman\n",
      "0.7372 How do I get Python requests.get \"application/json\" from a HTML page?\n",
      "0.6464 Python code to click on anchor tag\n",
      "0.6218 Cannot authenticate $http with passport Basic Auth\n",
      "0.6162 Further confusion with imports in Python\n",
      "0.6147 multiprocessing / multithreading in python to download files\n",
      "0.6089 Adding rows to Pandas dataframe\n",
      "0.6077 Can't get Scrapy to return text in Div\n",
      "0.6061 Wrong links to posts in GitHub pages with Jekyll\n",
      "0.6011 Sequelize datatype TEXT not working with mySQL\n",
      "0.5932 RLY-8 POE relay using json\n",
      "0.5899 Spark reading python3 pickle as input\n",
      "0.5848 \"Two valid but unequal nodes with the same `data-reactid`\" - How to fix\n",
      "0.5848 Unable to establish connection to safari WebDriver extension using Jenkins and Selenium Grid\n",
      "0.5847 Deployment on AWS Elastic Beanstalk with Docker fails\n",
      "0.5826 Http server post data to php-cgi using C++\n",
      "0.5815 Difficulty adapting Keras example to customer data\n",
      "0.5714 How can I send the Ctrl key to my terminal with subprocess?\n",
      "0.5704 Why is Sublime HTML Prettify not working\n",
      "0.5598 Pulling Sequelize Info from multiple tables\n"
     ]
    }
   ],
   "source": [
    "# print the question\n",
    "print(f\"Key question: {df.title[key]}\\n\")\n",
    "\n",
    "# sort and print the questions by similarities\n",
    "sorted_questions = sorted(zip(df.title, similarities), key=lambda x: x[1], reverse=True)[:20]\n",
    "for i, (question, similarity) in enumerate(sorted_questions):\n",
    "  print(f\"{similarity:.4f} {question}\")"
   ]
  },
  {
   "cell_type": "markdown",
   "metadata": {
    "id": "S75SQzAg1wHV"
   },
   "source": [
    "# Find embeddings fast with Vertex AI Vector Search\n",
    "\n",
    "As we have explained above, you can find similar embeddings by calculating the distance or similarity between the embeddings.\n",
    "\n",
    "But this isn't easy when you have millions or billions of embeddings. For example, if you have 1 million embeddings with 768 dimensions, you need to repeat the distance calculations for 1 million x 768 times. This would take some seconds - too slow."
   ]
  },
  {
   "cell_type": "markdown",
   "metadata": {
    "id": "0sjhTy-a47YH"
   },
   "source": [
    "So the researchers have been studying a technique called [Approximate Nearest Neighbor (ANN)](https://en.wikipedia.org/wiki/Nearest_neighbor_search) for faster search. ANN uses \"vector quantization\" for separating the space into multiple spaces with a tree structure. This is similar to the index in relational databases for improving the query performance, enabling very fast and scalable search with billions of embeddings.\n",
    "\n",
    "With the rise of LLMs, the ANN is getting popular quite rapidly, known as the Vector Search technology.\n",
    "\n",
    "![](https://storage.googleapis.com/gweb-cloudblog-publish/images/7._ANN.1143068821171228.max-2200x2200.png)\n",
    "\n",
    "In 2020, Google Research published a new ANN algorithm called [ScaNN](https://ai.googleblog.com/2020/07/announcing-scann-efficient-vector.html). It is considered one of the best ANN algorithms in the industry, also the most important foundation for search and recommendation in major Google services such as Google Search, YouTube and many others.\n"
   ]
  },
  {
   "cell_type": "markdown",
   "metadata": {
    "id": "xVOL8BgM2isz"
   },
   "source": [
    "## What is Vertex AI Vector Search?\n",
    "\n",
    "Google Cloud developers can take the full advantage of Google's vector search technology with [Vertex AI Vector Search](https://cloud.google.com/vertex-ai/docs/vector-search/overview) (previously called Matching Engine). With this fully managed service, developers can just add the embeddings to its index and issue a search query with a key embedding for the blazingly fast vector search. In the case of the Stack Overflow demo, Vector Search can find relevant questions from 8 million embeddings in tens of milliseconds.\n",
    "\n",
    "![](https://storage.googleapis.com/github-repo/img/embeddings/textemb-vs-notebook/9.png)\n",
    "\n",
    "With Vector Search, you don't need to spend much time and money building your own vector search service from scratch or using open source tools if your goal is high scalability, availability and maintainability for production systems."
   ]
  },
  {
   "cell_type": "markdown",
   "metadata": {
    "id": "uBt8tjidSzyU"
   },
   "source": [
    "## Get Started with Vector Search\n",
    "\n",
    "When you already have the embeddings, then getting started with Vector Search is pretty easy. In this section, we will follow the steps below.\n",
    "\n",
    "### Setting up Vector Search\n",
    "- Save the embeddings in JSON files on Cloud Storage\n",
    "- Build an Index\n",
    "- Create an Index Endpoint\n",
    "- Deploy the Index to the endpoint\n",
    "\n",
    "### Use Vector Search\n",
    "\n",
    "- Query with the endpoint\n",
    "\n",
    "### **Tip for Colab users**\n",
    "\n",
    "If you use Colab for this tutorial, you may lose your runtime while you are waiting for the Index building and deployment in the later sections as it takes tens of minutes. In that case, run the following sections again with the new instance to recover the runtime: [Install Python SDK, Environment variables and Authentication](https://colab.research.google.com/drive/1xJhLFEyPqW0qvKiERD6aYgeTHa6_U50N?resourcekey=0-2qUkxckCjt6W03AsqvZHhw#scrollTo=AtXnXhF8U-8R&line=9&uniqifier=1).\n",
    "\n",
    "Then, use the [Utilities](https://colab.research.google.com/drive/1xJhLFEyPqW0qvKiERD6aYgeTHa6_U50N?resourcekey=0-2qUkxckCjt6W03AsqvZHhw#scrollTo=BE1tELsH-u8N&line=1&uniqifier=1) to recover the Index and Index Endpoint and continute with the rest."
   ]
  },
  {
   "cell_type": "markdown",
   "metadata": {
    "id": "6pu1a3zjfQ0D"
   },
   "source": [
    "### Save the embeddings in a JSON file\n",
    "To load the embeddings to Vector Search, we need to save them in JSON files with JSONL format. See more information in the docs at [Input data format and structure](https://cloud.google.com/vertex-ai/docs/matching-engine/match-eng-setup/format-structure#data-file-formats).\n",
    "\n",
    "First, export the `id` and `embedding` columns from the DataFrame in JSONL format, and save it."
   ]
  },
  {
   "cell_type": "code",
   "execution_count": 18,
   "metadata": {
    "id": "GzZ30d4j_uLU"
   },
   "outputs": [
    {
     "name": "stdout",
     "output_type": "stream",
     "text": [
      "{\"id\":35944455,\"embedding\":[0.039504867,0.0328455381,-0.0076148962,0.0697463155,-0.0023225243,-0.0196711607,0.0533489585,0.019337574,-0.0012693328,-0.0226044282,0.0158311911,-0.0172175039,0.0259532463,0.0016789695,0.0168754645,0.0139366956,-0.041735962,-0.0047733113,0.0437522382,0.0250938144,-0.0567347072,-0.009464087,-0.0108493026,-0.0130390897,-0.0178697277,-0.0294265281,0.0451503508,-0.0524414107,-0.0181775317,-0.0318559557,0.0521288626,0.0003242289,0.0049689361,0.0157902092,0.0372606963,0.0788903832,-0.0575345047,0.0046347897,-0.0072734198,0.0227089245,0.0167079121,-0.0442540683,0.0102032777,-0.0097390898,-0.0071800333,0.0310342014,-0.0048060319,-0.0164887793,-0.0144160828,-0.0352152511,-0.0033999637,-0.0609145984,-0.0147973048,0.0260684863,0.0455364659,0.0383641981,-0.0462206565,-0.0033255192,-0.0222159848,0.0025250188,0.035092067,0.0091325091,0.0137359425,-0.0301769171,-0.0362078249,0.0702598467,0.0226195268,-0.0092726722,-0.0105438922,-0.0321617685,0.0017303675,0.039514672,-0.041145876,-0.0176230222,0.0430146009,0.0149622327,-0.0039421921,0.0549322255,0.0625552386,-0.0159379356,-0.0459140576,-0.0355603509,-0.0301584527,-0.049642086,-0.003505053,0.0613055527,-0.0576798618,0.0269106161,-0.0008741856,0.0454711094,-0.0147504117,-0.018569177,-0.007512881,0.0661589652,-0.0352908224,-0.0026897874,0.0106585119,-0.0269476995,0.0326278768,-0.0449685678,-0.0201192591,-0.0403165966,0.0563366935,-0.032043539,0.0461187623,0.0229957793,-0.0402680747,0.012134403,-0.0147999655,-0.0566627346,-0.0362181216,0.0710717738,0.0070888801,0.0432909019,-0.0197963938,-0.0459291637,0.0343446359,-0.0435575582,0.0738060251,-0.0086899539,-0.0339078158,-0.0260108635,0.0346909389,0.0284558255,0.0027787292,-0.0216256306,-0.0240342245,-0.0268614646,0.0149465576,0.0356143974,0.0414168462,0.0587364025,0.0554477535,-0.0333739482,0.0413299762,0.0445484184,-0.0213502385,-0.0307364501,0.039818719,0.0110177835,-0.0135384109,-0.0490855537,-0.0005807477,0.021404596,-0.0013079728,-0.0522171035,0.0040760865,-0.0284239538,-0.0566494912,-0.0121415146,-0.0305447467,-0.0450513475,0.0425286926,0.033458598,0.013627287,0.0543412566,0.0433775932,0.0334100127,-0.0579097085,-0.015493799,0.0061504333,-0.0326235071,0.0505137816,0.0168424919,0.0209352504,-0.00696981,0.0519024171,-0.0304296799,-0.0226628948,-0.0210551862,0.0158731062,-0.1252155751,0.0222950056,-0.0173463374,0.0644685254,-0.014173327,-0.0516359694,0.0244819019,-0.0101936338,-0.0278399773,-0.0324673913,-0.0254610181,0.0292662624,-0.0325623862,-0.0584741123,-0.0270926785,-0.0237582121,-0.0337595753,-0.0391234197,0.060399659,-0.028952606,-0.0158741549,-0.0025402976,-0.0931610316,-0.0305331759,-0.0228944793,0.0155280409,-0.1322516501,-0.0064634434,-0.0247369427,-0.0225159824,-0.0521867722,-0.0154772531,0.0793438256,-0.0182346776,0.0009159544,-0.0343588404,-0.0102135921,0.0300253537,0.0182416756,-0.0568175502,0.010041316,0.0357927904,0.0105235353,-0.0247678608,0.010833093,-0.009420583,-0.0213670563,-0.0728893206,-0.0074882228,-0.0483343117,0.0571926907,0.0298386775,0.0717807785,-0.008885514,-0.0060071745,0.0558431968,0.0199072454,-0.0059404373,0.0389369279,0.0111189177,0.0067452383,0.0107783778,-0.0151653588,-0.0093942117,0.0573109984,0.0297956131,-0.0168955009,-0.0763559937,-0.0097250724,-0.0178224556,0.0618420653,-0.0055597634,0.0494015999,-0.0439102612,0.0097231008,-0.0210461225,0.0207352471,0.0449540094,-0.0018692244,0.0644800141,-0.0790623277,0.0066123023,0.0105378628,0.0405878797,0.0103795258,0.0008432333,0.0434659421,0.0247594323,-0.0018896401,-0.0298381504,-0.0016310905,0.0234139394,0.1157889962,-0.0579074658,-0.0354890861,-0.0461446308,-0.0339283533,0.0602174215,-0.0545687415,0.02114629,-0.0293438751,0.0693293139,0.0479863361,0.0018276545,-0.0220459886,-0.0592619292,0.0151719414,0.0272479951,0.045316536,-0.0109773604,0.0366310403,-0.0193977393,-0.0041209953,0.0171261467,0.0242268313,-0.0525247566,0.0078287721,-0.0483430251,-0.0035086076,0.00119211,0.0352707356,-0.0778643936,0.0403368175,0.0416376442,0.0244528148,-0.0014955843,-0.0507487245,-0.0037660161,0.0017676341,0.0015821826,-0.071092397,0.0412934981,-0.0614619441,-0.028327588,-0.0265964773,0.0020511891,0.0059450003,0.0096014757,-0.0152611444,0.0382844545,0.0203938466,0.055040665,-0.0186715834,-0.0577510782,-0.015297967,-0.0327373929,-0.0516439602,-0.0027912431,0.0170327835,0.018103702,0.014222973,0.1080845967,0.042886205,0.0654526278,-0.0501752384,0.011079926,0.0249932427,0.1024879888,-0.0693522096,-0.0186751448,0.021886291,-0.0598448999,0.0132943485,0.0417699143,-0.0090047354,0.0099037131,0.0704285726,-0.0117186792,-0.0372394659,-0.0122551257,-0.0058318325,-0.0157003738,-0.0330082923,-0.0082713775,0.040295694,-0.0763361678,-0.0210177768,-0.0135884993,-0.0406519398,-0.0022877138,-0.0078661889,-0.0494341254,0.0350796394,0.0084355418,0.0626183301,-0.041392751,0.0010825014,0.0540387444,0.0248293988,-0.025327513,0.0145487105,-0.0615967475,0.0202432834,0.0230629891,0.0124292215,-0.017239131,0.0160411634,0.0604899786,-0.0090808375,-0.0400399566,0.0136300353,0.0264540017,-0.0382801294,-0.0365446508,0.0021540194,-0.0401654802,0.0166326165,0.0021761523,0.0311080609,-0.0079057366,-0.0167292673,-0.0178295784,0.0277420823,-0.0268555824,0.0142753609,0.0139114801,0.0653473437,-0.0039379252,-0.0412977189,0.0478545949,0.0299846921,-0.0114632761,-0.023306556,0.0314021632,0.0239204317,-0.0268812645,-0.0098551856,-0.0650779977,-0.0481273308,0.0122071644,-0.041247502,-0.0215603262,-0.0653769076,0.053798534,0.0478695296,0.0298048072,0.0649321377,-0.0157336239,-0.0445487574,0.0388324633,-0.0127748884,-0.0073743197,0.0150546441,0.0501629822,-0.0286998674,0.037842609,-0.0463602133,-0.0156717468,0.0235087369,0.0477676056,-0.0090229483,-0.0244344771,-0.0091146119,0.0149211343,-0.0010516914,-0.0453651585,0.0305854958,-0.0128887361,-0.0165496226,-0.028153142,-0.0122819394,-0.0201926827,-0.0392026268,0.0148041481,0.0034369843,0.1165569425,0.0673264787,-0.0286416374,-0.027707899,-0.0254354067,0.0175167918,-0.027743753,0.0377109721,-0.0311965737,-0.0566779599,-0.032454621,-0.0189824309,-0.0020453122,0.0150368139,-0.0055618528,0.017821772,0.0254646931,0.0791543648,0.005967326,0.0220963508,-0.0197075736,-0.0171454735,0.0084998393,-0.0539477542,-0.0671433657,-0.0094814291,-0.0413249508,0.0587721318,-0.0274002347,-0.0327764824,0.0052623795,0.0524953753,-0.053200718,-0.0247626565,-0.1090790629,0.0290524624,-0.0265709925,0.0030094793,0.0202715285,0.0197143424,0.0871413276,0.0114438077,-0.0265641715,-0.0028851402,-0.0430709869,-0.0297996551,0.0351623148,-0.0165823512,0.056425944,0.0245643649,0.0079119485,0.0395852551,0.0223780554,0.0169811286,0.0250883475,-0.0015791468,0.0077437451,-0.0139566734,0.0186158493,0.0047934977,-0.0155457677,-0.0097885523,0.0239626262,-0.0329181142,0.0423564166,0.0016372092,0.0377975665,0.0369150005,-0.042196732,0.0177056938,0.0297772326,-0.0294704679,-0.0352310278,0.0159463529,0.0329390951,0.0267909802,0.0250353944,-0.0379366539,0.0246417411,-0.0329371393,0.0035837009,0.027850613,-0.0011256648,0.0177748296,0.0279026516,-0.0000865981,-0.0006267355,-0.0603032894,0.0079611102,-0.000396782,0.0447433628,-0.0105817188,-0.0315443017,-0.0150490915,-0.0039808,0.0551655516,0.0326651074,-0.0178424399,0.0184247456,-0.0211601704,-0.0026896186,0.0003995571,0.0665631145,0.085577026,-0.0049988348,-0.0605987199,0.0052251178,0.029397212,-0.000800374,0.0367735922,0.008693682,0.0559724532,0.0335839577,-0.0003079026,-0.0139843496,-0.0034018094,-0.0192727111,0.037904162,-0.0088812988,-0.0228234716,0.005797232,-0.0069826166,-0.0504976138,0.009968644,-0.0193839408,0.0329489112,0.011872693,0.0255809259,0.0503058396,-0.0049711089,0.06190091,0.0294262879,0.0370461233,0.0007750496,-0.0367724001,-0.0825244486,0.0209226068,-0.0022620943,0.0247834139,0.0254892632,-0.0203171726,0.0106078656,0.0128169116,0.0188802071,-0.0408244506,0.0265673138,-0.0479899868,-0.0030711091,-0.0405099876,0.0048992499,0.0008578568,-0.0384552777,0.015007196,0.0075392597,0.0248562563,-0.0570152029,-0.0318569429,0.0212055538,-0.0397523977,-0.0631155297,-0.0512815379,-0.0453282408,-0.0053025945,0.0377731621,-0.0148649877,-0.0376442932,0.0246635936,-0.0340329632,-0.0009848973,-0.0119222598,0.0831044763,0.0436501093,0.0381141379,0.0782069042,0.0551982857,0.0260465704,0.01674789,-0.0351949558,-0.0291741658,-0.0226276536,-0.0226508677,0.0619546436,0.0163928028,-0.0069220387,0.009891659,-0.0100100366,-0.0302194934,-0.0165714677,-0.0225770716,-0.0194268487,0.0119298929,-0.0006730119,-0.0248333178,-0.0133923823,-0.0080241561,-0.0104553699,-0.04676174,-0.088940613,-0.0164413787,-0.0457053892,-0.0105055124,-0.0236286968,0.0293660294,-0.0037306717,0.0221273247,0.0403458551,0.008457684,0.01295825,-0.0396718122,-0.0169205051,-0.0130304834,-0.0389053449,-0.0078918571,0.0742460862,0.0070698876,-0.0348204523,-0.0221101847,-0.0334918797,0.0027735049,-0.0127544869,-0.038939923,0.0130303083,-0.0037973307,0.0145305134,0.0392446294,-0.0059687947,0.023785511,0.0881868526,0.0008380541,0.0598036833,0.0355360135,0.0338055044,0.008732982,0.013170925,-0.0139238266,-0.0319579206,0.0723830834,-0.0325543992,-0.0083068507,0.0539656207,0.0296544321,-0.0083197998,0.0468927473,0.0094080428,-0.0451318659,0.0262708999,0.0121535873,-0.0883337185,0.022966532,-0.063221626,0.0361354277,0.0111943185,-0.0646757558,-0.0178994201,-0.0012233317,0.0234192684,-0.0445609204,0.0197288003,-0.0345753804,-0.038222041,0.0135772536,0.0361147039,-0.0312627815,0.0156913232,-0.0325511172,-0.0003167879,0.0522296131,0.0547833145,0.0495580584,-0.001173681,-0.0152028697,0.0410334729,-0.0488364063,-0.0141715324,-0.0502880141,0.0005436437,0.0222934429,0.0074296221,-0.0227841008,0.0400732271,-0.0287810545,0.035007935,0.0447226465,-0.0231251176,-0.0276244543,-0.0231136084,0.0036930544,-0.0603032634,-0.0168265384,-0.0362200588,0.0098930998,-0.0351517163,-0.0303338934,-0.0087053822,0.0459705703,-0.0108090285,0.0416367278,0.0302727353,0.0479137264,0.0149838598,0.0322054885,-0.0566206984,0.0511317179,-0.0197447985,-0.056729421,0.0172285326,0.037122909,0.0029659099,-0.0088594882,-0.0633091778,0.0335188285,-0.0022780355,0.0298170429,-0.0478526577,-0.0528566465,0.0173816606,-0.0105448468,0.0227243509,-0.0509502217,0.0126035977,0.0504365377,0.0414786525,-0.0100179166,0.0877409726,-0.0178924128,-0.0124427136,0.0009654275,0.0333309546,0.0219882093,-0.025403766,-0.0544425957,-0.0203253739]}\n",
      "{\"id\":36151178,\"embedding\":[-0.0177714881,-0.0212789364,-0.0082797986,0.0293965973,0.0194831174,0.015995672,0.012014172,0.0092386175,0.0158190224,0.0120654227,0.0199067332,0.0383831672,0.0382319614,-0.0044264137,-0.0085470146,-0.0170431212,-0.0249824133,0.0133561017,0.0140790101,-0.0022567755,-0.0808694661,0.0368399359,0.0120038837,0.0025139735,0.0007082558,-0.0841702819,-0.0164590534,0.0062897578,-0.0311688501,-0.0319092385,0.0603046045,0.033416573,-0.0274407845,-0.0317728631,-0.0000617423,0.0064894953,0.0224761926,0.0335651115,-0.0136840129,0.0364496522,-0.028618589,-0.0030995531,-0.0020603,0.0184730161,0.0001788607,0.0259812344,-0.013011991,0.0416416563,0.0480644926,-0.0429703109,-0.0363145955,-0.0715437233,0.044745177,0.0089361165,0.0506993681,0.0367518589,-0.024161661,-0.0178205054,-0.01803465,-0.0103148744,0.0013375955,-0.0011663507,-0.0063483273,-0.0155509124,-0.0121485144,0.0190238226,0.034200497,-0.0192754883,-0.0292413328,-0.0118176118,0.0470933653,0.0116772735,0.0095235826,-0.0202766359,0.063203238,-0.0144346235,-0.044510331,0.04821302,0.064012982,-0.0491972081,0.0088910591,-0.0404440649,-0.0231795926,-0.0560575984,-0.0172909275,0.0180552546,0.0043834555,0.0310561508,-0.0141146304,-0.0266195592,-0.012641036,0.0245602056,0.0310861934,0.0277250148,0.0101198666,0.0125505487,-0.0500322096,0.0224373005,-0.0141287614,-0.0002400994,0.0248563867,-0.0335895717,0.0373474769,-0.0154704209,0.0449163355,-0.0086265095,-0.041888196,0.0271854997,-0.0415738635,-0.066927366,-0.0561201945,-0.0261853393,0.0084523447,0.0467606299,-0.0043346328,-0.0320345275,0.0542051047,0.0359213129,0.0676416904,0.0360015258,-0.008107543,0.0580287389,0.0587965064,0.0066840127,0.0132855913,0.0524414219,0.0318164118,-0.017430326,-0.0458964445,0.0193145555,0.0567311421,-0.0184127428,0.0308037885,-0.0320862606,0.0372437723,0.0692516267,-0.0340944566,-0.0203560591,0.0228642263,0.0403266512,0.0338494144,0.0113469008,-0.0214195196,0.0079944804,0.0176509544,-0.036809627,0.0343594104,-0.0411662906,-0.0669569373,-0.0395190492,0.0205967575,-0.0398601517,0.0030765426,0.0444259197,0.0399976075,0.064069137,0.037256401,0.0538473837,-0.0027504496,-0.0482064597,0.0773617029,-0.0454052091,-0.0238161758,0.0087282546,0.0466603003,0.0486847796,0.015238517,0.0080204178,0.0195254292,0.0218521357,0.0176436938,-0.1452873945,-0.0314988829,-0.0528687946,0.0515119433,0.0224072952,0.0111748865,-0.0246707611,-0.0068560946,-0.0011862792,-0.0081757689,-0.0002248694,-0.019913923,-0.0009342665,-0.0655261949,-0.0141783841,-0.0545664467,-0.0357936211,0.0082272282,-0.0118650086,-0.0186826084,0.0463923104,0.0238770675,-0.0658748075,-0.0139265088,0.0087760836,0.0668753907,-0.0625147969,-0.0584225357,0.0579692982,0.0189761873,-0.0183995459,0.018049676,0.0331897922,-0.0166246928,-0.0185026266,-0.0434210822,-0.016572753,-0.0458400585,-0.0115519809,0.0277128052,0.0183698218,0.0736066625,-0.0128620435,-0.010074608,-0.0508655533,0.0085164635,-0.0636486188,-0.0886493772,0.0525245629,-0.014882273,-0.0134236235,0.0136474799,0.0274352916,0.0581273697,0.0010353351,0.0062891124,-0.0192075446,0.0025168078,-0.0040897653,-0.0559689887,-0.0156850945,0.0178145245,-0.0210381709,-0.0753846988,0.0221574027,0.0319936983,0.0082386117,-0.0646812692,-0.006543207,-0.0636729747,0.0811828524,-0.0380294956,0.0455161855,-0.0227701496,0.0456452146,-0.0162788406,0.0149319302,0.0234947111,-0.0505662858,0.0298277829,-0.0359486118,-0.029605126,-0.0393959954,0.0370768011,0.0005084674,-0.013379992,0.0614667796,-0.0064376895,0.0044957972,-0.0133898342,0.0300431587,0.0532653406,0.1035152227,0.0074490346,-0.0027295086,-0.0363412723,-0.0145720392,0.0615047924,0.0139219472,-0.0379796438,-0.0344000682,0.0503853112,0.0291764233,-0.0439904705,0.0157835633,-0.0257354416,0.0519709624,-0.0108956704,0.0513753742,0.0262350943,0.0300717521,-0.0146303875,0.0338457637,0.0503563322,-0.0027556634,-0.0071002953,0.023732001,-0.0784581155,-0.0068068402,0.0010229199,-0.0537825972,-0.0524204262,0.04781124,-0.0140881874,-0.0286254026,-0.0044889729,-0.0191113483,-0.0578017421,0.0403548554,0.0145343021,-0.030461276,0.0654788539,-0.002953459,-0.0117910625,-0.0123455282,0.0504903011,-0.0103337141,0.0293896198,-0.0186749436,0.0058587999,-0.0260633007,-0.0175481886,0.0135874199,0.0038593481,0.0290240869,-0.0261896048,-0.0323995985,-0.0153286019,0.0405030698,-0.0054140692,0.004506343,0.0425096378,-0.0229199752,0.0378901996,-0.0190434679,0.047435727,-0.0478335507,0.0775278807,-0.0314105749,-0.0431191251,0.0628007725,0.0080607375,0.0072477404,-0.035342522,-0.0078621805,0.0256077293,0.0717069209,-0.0031307456,-0.0569517836,-0.0049570045,-0.0376239009,-0.0182507299,0.0035354621,-0.0281925108,0.0123285567,-0.0323341638,-0.0280961841,0.011427477,-0.0164587386,-0.0238351878,0.0546816103,0.0091664316,0.0005004356,-0.0170011558,0.03132293,0.0255979151,0.0036171987,0.022755852,0.0228378009,0.0065271179,-0.0321519822,-0.0123225013,0.0333192013,-0.0031968569,0.033647608,-0.0185976718,0.006575882,0.0424827896,0.0059991251,0.0270611141,0.0312597714,0.0004026064,-0.0151937073,-0.0272254646,0.0386693403,-0.0143627711,0.0429415107,-0.0426008031,0.0180611461,-0.0087700514,0.0234159194,-0.0254946779,-0.0173505731,-0.0007945366,0.0521351099,-0.0072748601,0.0367376842,-0.0407875367,-0.049086228,0.0391359664,0.0652017519,0.0251342058,0.0041358201,0.0130623626,0.0714241117,-0.032170061,-0.066317372,-0.0055878037,-0.0401306301,0.042890992,-0.0404682942,-0.0655607134,-0.0603790134,0.0095527126,-0.0037920193,0.0099979071,0.0327927098,-0.0001460473,-0.0406077877,0.0341781825,-0.0141066778,0.0559545122,0.0448774658,0.0732224658,-0.0621670485,0.0184260625,-0.0226557311,-0.0081944121,0.0233783908,0.0399506651,-0.0238231588,-0.0685557425,0.0655753762,0.0201311819,-0.0301362574,-0.0547462441,0.0216645394,-0.029481126,-0.0032035287,-0.0355451852,-0.0185800157,0.0714218989,-0.0755429044,0.0299432315,-0.0196767021,0.0138954651,0.0411741473,0.0197205525,-0.023744043,-0.0345892347,0.0281072296,-0.0368415043,0.0205271952,0.0154730743,-0.0809753686,-0.0165021494,-0.0578151532,-0.0291578304,-0.0260740388,-0.0591545217,-0.0419628285,0.0237028301,0.0748950839,-0.0868122876,0.0133297965,-0.001459285,-0.041063033,0.0189599488,0.0522957407,-0.0945106894,-0.0378991179,-0.0133672813,0.0152871348,-0.0020837106,-0.0320958681,-0.0093620708,0.0848958418,-0.007653553,0.0453537367,-0.0666341558,0.0779093727,-0.0412583835,0.0228454173,0.0274007302,-0.0062978114,0.0789396465,0.023697732,-0.0259977877,-0.0170858838,-0.037529707,0.0141589232,-0.0165339895,-0.0364103131,0.0019846028,-0.0028463264,-0.007765953,-0.010265084,-0.0140346298,0.001804091,-0.0221404005,-0.018711511,0.0308022816,-0.0563399605,-0.0543803498,-0.013095242,-0.0077432706,-0.0305556636,-0.0209513549,0.0087846881,0.0101358062,0.0108775552,0.0264705624,-0.0166825615,-0.0263402835,0.0110982936,0.0232257303,-0.0087728929,-0.0675651953,0.012597709,0.0546524078,-0.038697347,-0.0012657981,0.0081326207,-0.0805872232,-0.0241877232,-0.0115413452,0.0550461486,0.0162429251,0.022658987,-0.0189416092,-0.0011154263,0.0298848525,0.0384221748,0.0307888743,0.0251442175,0.0267215874,-0.0662552044,-0.0066676168,0.016663732,0.0267596729,0.0825028867,-0.0230887849,0.0131093943,-0.0011226487,-0.0485075675,0.019733509,-0.0289674327,0.031213101,0.1428084373,-0.0114821522,-0.0692165941,0.018613765,0.0112242419,0.0059035299,0.0180283356,0.007305284,0.0081005655,-0.0248131528,0.0580960847,-0.0039031501,-0.0064076707,-0.0302123968,0.0010903883,-0.002772456,-0.0209052097,0.0279345028,-0.0574174263,-0.0608161204,-0.0230024159,0.0112441806,0.023937,-0.0291909799,-0.0457245186,0.0211976878,-0.0299062859,0.0350477435,0.0147410035,0.0026256396,0.0194751285,0.0117070768,-0.0433545224,-0.0398088731,-0.0491901711,-0.0559582449,0.0259984341,-0.012862091,0.0248533916,0.0028635717,0.022530593,-0.0366100445,0.0878157541,-0.0251850244,0.0676935762,-0.0374458358,-0.0221500713,-0.0530069433,-0.0409365147,-0.0413928702,-0.0168302935,-0.0063576633,-0.0611945949,0.0195765477,-0.0072132782,-0.0533191264,-0.0314607099,-0.0437923856,0.0016681772,0.0591096207,0.0032418959,-0.0034106101,0.0364299081,0.0067722034,-0.0314722136,0.0513020083,0.018889904,0.0075802431,0.0062875696,-0.0056197299,0.0006243158,0.0298026502,0.0228733663,0.0210608933,0.0509345829,0.0044922247,0.0114291031,0.0359825231,0.0066107344,0.0105163464,-0.0158586651,0.0444468185,0.0166925229,0.0204747654,-0.031820301,0.0467135124,0.0137933204,0.0181090925,-0.0158833694,-0.0291076545,-0.0333227515,0.0280385241,-0.0721866339,-0.0351885743,-0.0316801816,0.016368771,-0.0740129352,0.0270722043,0.0426166318,0.0365579203,0.0549689345,0.009239045,0.0238358583,0.043082349,-0.0035185015,0.0021490993,-0.018912144,0.0079841996,-0.0163866803,-0.0170275625,0.0697451755,0.0466079116,-0.0307709239,-0.02676492,-0.0549047366,0.0215479899,-0.0193313509,0.0544317216,0.0043877377,-0.0354643427,0.0193145424,0.05010866,0.0395076275,0.0076630688,0.0647074953,-0.0768892169,0.0259595998,0.0369405895,0.0020181609,-0.0068782959,-0.0134951612,-0.091741018,-0.0400883146,-0.0069271508,-0.0153174624,0.0395647809,-0.0236301553,0.0330666453,0.0173865315,-0.0037025998,0.0606175959,-0.1093200073,-0.0179986972,-0.0000825238,0.0028126477,0.0423146561,-0.042217169,-0.0132299811,-0.0253885966,-0.001208097,-0.0459955968,-0.034920074,0.0004746437,-0.0475350432,-0.0016267129,-0.0102292858,-0.0172230117,0.0056204004,-0.020828722,0.0400113948,0.0104846116,-0.0098916851,0.0146727497,0.0520683825,0.0044937134,0.0748284012,-0.056987524,-0.0263806265,0.0081083979,0.0097649936,-0.0305307265,-0.021171188,-0.0188249815,0.0440983623,0.0421160012,0.0260085668,-0.0077018389,-0.056508936,-0.008032782,0.0186249632,0.0013066955,0.0333228484,0.0296604242,0.0273547191,-0.0435133763,0.0053834431,-0.0495253094,0.0045634508,-0.0066902027,-0.0212233514,-0.0236338787,0.000842522,-0.0228354391,0.0411659628,0.0003427971,0.0104634874,-0.0139461951,0.0097711785,-0.0122148758,-0.0123083899,-0.0380126499,-0.0020912888,0.0596106946,0.0073778876,-0.0057525877,-0.0105403438,0.0119920392,0.0222901814,-0.0051048696,-0.0359451137,-0.0517297089,-0.0776184723,0.0081210388,0.0211379267,-0.0063414723,0.0164038949,0.061603453,-0.0097950995,0.059320379,-0.0230072774,0.0329532474,-0.0837789699,-0.0165450349,-0.0732113793,0.0350893736,0.0545339771,0.0348640382,-0.0188162755,0.0022607655]}\n",
      "{\"id\":35808979,\"embedding\":[-0.0269741565,-0.0454503633,0.0320925377,0.0200340673,0.0262429398,-0.0716106147,-0.0188187603,-0.02672063,-0.0107539659,0.0354759023,0.0286202803,0.0141133219,0.019685477,-0.0511485524,0.0284167137,0.0002425862,-0.0001680728,-0.0183856487,0.0032686929,0.0216882788,-0.007579281,-0.0322612599,0.0184781961,0.0244751405,-0.04191643,-0.1009285524,-0.0170615688,-0.0405478179,-0.0135595733,0.0061959005,-0.0121956617,-0.0066890134,-0.062337257,-0.0049165888,-0.0023075426,0.0435944386,-0.0127507476,0.0784484819,-0.0782099515,-0.013539793,0.0225673001,0.0396841802,0.0004051845,0.0150931496,0.0058249235,-0.0154892243,-0.0222524572,0.0084477197,-0.0441758707,-0.0536857992,0.0080163442,0.0080125276,-0.0339926779,0.030249821,0.0108398749,0.0741880611,-0.0698900446,-0.0006471537,-0.0260849018,-0.0102821672,-0.0048477673,0.0064473124,-0.0174841322,0.0041339248,0.021903554,0.0238150507,0.066780217,0.0227076337,-0.0048724608,-0.0448051989,0.0479725301,-0.0224717055,0.012899505,0.0128572835,0.0005249674,0.0139109455,-0.0053001069,0.0169206113,0.0371259786,-0.0326384567,0.0043787407,-0.014103394,-0.0470154062,-0.0806869268,-0.0791977793,0.0706203654,0.013732085,0.0101683456,-0.0208901335,0.0330538414,0.0007459869,-0.0157439206,0.0277190972,0.0325320475,0.0259205606,0.0186181124,-0.0173249729,-0.0396935008,0.0115281306,0.0257100444,-0.031494461,-0.0272779223,0.0706813186,-0.0036842464,0.0359867141,-0.0123728206,-0.0578645729,0.0524038933,-0.0178352091,-0.0390953533,-0.0462634265,-0.0243500434,-0.05369379,0.0217892695,-0.0119216908,-0.0436043739,0.0058572865,-0.0034041633,0.037375737,-0.0115669314,-0.0155052003,-0.0080760447,0.0023860058,-0.0199909415,-0.0054836874,0.008689926,0.0492544696,-0.0351982005,0.0210303534,-0.0258062016,-0.0125712939,0.0222992226,-0.0042267917,-0.0252355505,0.0448242091,0.0487269312,-0.0032253598,-0.0088369595,0.0017603097,0.015408773,-0.025018733,0.0216539558,-0.0305756275,0.0234554447,0.007625706,-0.0971527696,0.0111692511,-0.0338506289,-0.0498538725,-0.087334238,0.0158200432,-0.0245861001,0.0035085119,0.0412700325,0.0569333546,0.0233121328,0.0749851838,-0.0099323466,0.0207156297,-0.0552389883,0.0121437572,-0.0800969228,-0.0039489167,0.0174263548,0.0442066938,0.0296387039,0.0221957136,-0.0053874017,0.0765578225,-0.0133802192,-0.00079019,-0.1201102287,0.0052682017,-0.0866616592,-0.0099687967,-0.0208231099,-0.0198798459,0.0143295685,0.0422679409,-0.0506319851,-0.0184973236,-0.021019062,0.0057680928,-0.0090038152,-0.0496133864,0.0065581384,0.0155697158,-0.0341483913,-0.0472218655,-0.0133844754,-0.0472625159,-0.0076116892,-0.0087375371,0.0189740937,0.0134438863,0.0122525059,0.0628748909,-0.0851365626,-0.0521015599,0.0058916528,0.0369956531,-0.0108689955,0.0450629964,0.0444700383,-0.0207860284,0.0084461682,0.0080187898,0.0386938043,0.03117452,0.0641588122,0.0056652841,-0.0358634554,0.0093705915,-0.0471244417,0.0403877422,-0.0708407387,0.0327283628,-0.0351169929,-0.0491598547,0.0198287982,-0.0141476952,-0.0384307243,0.0059255515,-0.0035539747,-0.0207525976,0.0420133956,-0.0027911717,0.0147124855,0.0552776605,-0.0028162606,0.0244287904,-0.0021992966,0.0079300348,-0.0218109507,-0.046934396,0.0197921079,0.0222425982,-0.0378077924,-0.076987505,0.0006135194,0.058768075,0.0687888563,-0.0156590752,0.0037845911,-0.0109910863,0.0383056551,-0.0025019273,0.0312505327,0.0188453253,-0.0589619353,0.0276196692,-0.0154586108,0.0032374563,0.012382403,0.0027393484,0.0002588452,0.0161791556,0.0629744008,-0.0104790619,-0.0302379504,-0.0240643471,0.0420831442,-0.0071389331,0.0600301586,-0.0007399556,-0.0364584029,-0.0076858643,-0.0047931811,0.0172571186,-0.0343418121,-0.063422583,0.0002370465,0.0414051227,0.0240377504,-0.0327562913,0.0240647905,-0.0409831814,0.0681584626,0.0067088134,0.0493048541,-0.01479825,-0.0089479014,0.0103971791,0.0280537233,-0.0444167629,0.0277680196,0.024764888,-0.0093156034,-0.0686589479,0.0194741637,0.019281853,0.0029212011,0.0005057117,0.0556810126,0.0255386569,-0.0473929234,0.0359933674,-0.0306597836,-0.0028758978,0.0299902409,-0.0300777089,0.0102490112,0.0539521277,0.0344422087,0.0119390059,0.0019266648,0.0466629229,0.0317127593,0.0226517562,-0.0007206948,0.0190283768,0.0072558178,-0.032950785,0.0261660051,0.0015042166,-0.0227149948,-0.0049060034,-0.0118493503,-0.0193645768,0.0345172435,-0.0265304167,-0.0346534699,0.0174303539,-0.0183817763,-0.0318144858,-0.0047789384,0.0524577945,-0.0021215042,0.0925893188,-0.0094732502,-0.0054031885,-0.0191968922,-0.0121503314,-0.0508430935,-0.0060254009,-0.0027118111,0.0335456878,0.0215553008,-0.0097838314,-0.0034734397,0.0667437539,0.0031081559,-0.0183417536,0.0102536865,0.0085096592,-0.0114609031,-0.0429459698,-0.0628864616,0.004216346,-0.0195384137,0.0042188154,0.0288148411,-0.038540639,0.0124143586,-0.0287269112,-0.0206875503,-0.0207508318,0.0173967835,0.0887358338,0.0452453978,-0.0651730224,-0.0019954925,-0.0133323139,0.0139683485,0.0446201712,0.0310721416,-0.0585535467,0.0068624015,0.0630864948,0.0502699539,-0.0200690012,-0.0288583729,-0.0068466701,-0.0070671355,-0.0481748618,0.0669949651,-0.0725506768,-0.0662045702,0.0170549136,-0.0026231376,-0.0229390152,-0.0136938021,0.0362803079,-0.0143660996,-0.0039387872,0.0383977778,0.0400238596,0.0106656924,-0.0270716995,0.002629997,0.0512969196,0.0431320854,0.0140539007,-0.0120965736,-0.030021498,0.0255926196,-0.0391074643,-0.0122897513,-0.0404839292,0.0077431556,0.0456426814,0.0073375981,-0.041512426,-0.068898648,0.0309680514,0.0292382613,0.0518293902,0.0147627192,-0.0033352068,-0.0387727544,0.0530945696,-0.020428909,0.0082353475,0.0369920991,0.0536543541,-0.0915796757,0.0098416181,-0.0501188859,-0.0212693587,-0.0100127049,0.0529729985,-0.0086219246,-0.0369460881,-0.0178925488,0.0421381705,-0.019128846,0.0033448501,0.0475664511,-0.0601105504,-0.0406633094,0.0144959185,0.0448036306,0.0139264483,-0.04919938,0.0227558818,-0.0357289128,0.1223641187,0.0737099722,0.0475700013,-0.0076228809,-0.0184507445,0.049003493,-0.0227476899,0.0323956981,0.0070992089,-0.0264578816,-0.0191493724,-0.0294496436,-0.0548868142,-0.0037068957,-0.0233247355,-0.0201561842,0.0410921052,0.0904220715,-0.0254065674,0.0182450209,-0.0320526958,-0.0243679862,-0.0590928681,-0.0078097563,0.0083890334,0.014239152,-0.0171920992,0.0362619571,0.0162411723,-0.0142200664,0.0489542037,0.0505158305,-0.0068929335,0.0127564855,-0.0405203886,0.0563303642,-0.0535449535,-0.0043129069,0.0367128253,-0.0308488645,0.0477437414,0.0595028475,-0.0294911619,0.0079571279,0.0323820189,-0.0338493064,-0.009230651,0.000286478,0.0395720042,0.0215139072,0.0386707,-0.0088200886,0.0060665449,-0.0637929291,0.0104346368,0.009405992,0.0252614953,0.0082424898,-0.0156694762,-0.0403985456,0.006902942,0.0215829164,0.0377394743,0.0547025651,0.0108199473,0.0312906578,0.0137288328,-0.0010656724,0.0213313308,-0.0058995611,-0.0311555546,-0.008698605,0.011486195,0.0125778932,-0.0004761376,-0.0117227063,-0.0036499207,-0.0817575902,-0.0192755591,-0.0460772887,0.0631002858,-0.0086245257,0.0359993763,-0.0289315339,-0.0170271825,-0.0195474196,-0.0284202024,0.0138291307,-0.0004283085,0.0375092141,-0.0009566052,-0.0306204632,-0.0213210378,-0.011975009,0.0255080964,0.0659491792,-0.0275783967,0.0497861877,0.0239682663,-0.027592184,-0.0080884499,-0.009209564,-0.0063830139,0.0563789532,-0.0632577017,-0.0682695881,-0.006583048,0.0080865137,-0.0194481425,-0.0278027374,-0.0134012047,0.0211658794,-0.0462076142,-0.0264184345,0.044167649,-0.0173313674,0.0029005755,0.0258511752,0.0306043942,-0.0066836281,0.0578111298,-0.0467791148,-0.0264439285,-0.0089143049,-0.0077554006,0.046330113,0.0027243134,-0.0555576086,0.0649703667,0.0220680535,0.0562077425,-0.0100924568,0.0506081954,0.0457046218,-0.0265047494,-0.0626384541,-0.0128571223,-0.0259049479,-0.0336659662,0.0006982666,-0.0013990408,-0.0095372451,-0.017344743,0.049787093,-0.0091559123,-0.031988658,0.0265954491,0.1013133377,-0.040480867,0.0135143222,-0.0529431291,0.0122174397,-0.0194133632,0.0215305984,0.0563291609,-0.0882957652,0.0286272131,-0.0192481428,-0.0598438606,-0.0265728123,-0.0474840105,0.0112615805,0.0242956169,0.0561884306,0.0352356359,-0.0145192295,0.0068138409,-0.0366380326,0.0014602266,-0.0289849564,0.0374833979,0.0517215841,0.0743455812,-0.0010602081,0.0388768725,0.0630597398,-0.0334859937,-0.0157000292,-0.0357296318,0.0108722309,-0.0085523566,0.0388526767,0.0428563952,0.0118075386,0.0316583477,-0.0011108005,-0.0652811974,-0.0554158241,-0.0053488445,-0.0191392917,0.0010710126,0.022315044,-0.0183113683,0.0172871761,-0.0127904313,-0.0739823952,-0.0614297502,-0.0211879332,0.0005767719,-0.0272877477,-0.000189477,0.0367193595,0.0887588337,-0.0357779786,0.0177593511,0.00701256,0.030095635,0.0158463903,-0.038454961,-0.0380185544,-0.0128759639,-0.0370934978,-0.0086016506,0.0171797983,0.0043154843,-0.0223035421,-0.0244850237,-0.0807234496,0.033842016,-0.0099249342,0.0020906245,0.0162033476,0.00958235,-0.0100142835,0.0430066399,0.0226856899,0.058245223,0.0580365993,-0.0379675925,0.0790807232,-0.005538513,-0.01621156,0.00135834,-0.020857729,-0.0360365845,-0.0091617219,-0.0005122469,-0.0139892353,0.0670732781,0.0143781733,0.0416926071,0.0092832465,0.028409414,0.0535053127,-0.0867805108,0.0091674263,0.0067848549,-0.0045249802,0.011385737,-0.0393649228,-0.0006451738,0.0251337495,0.0053832438,-0.0324327387,-0.0182789396,0.0518712513,-0.0968106389,0.0324608758,0.0320270211,-0.034539409,-0.0204121899,-0.0351041555,0.0147232879,0.0356946141,0.0165693797,0.0357594863,0.0273239315,0.0577087812,0.1025597826,-0.0062042018,-0.0068761199,-0.0286836885,-0.0040286742,-0.0135707352,0.048099231,-0.0565135852,0.0238940716,0.0095818155,-0.0324865505,0.0833409131,-0.0888809487,-0.0643831491,0.0520714298,0.0273490977,0.018346902,-0.016609801,-0.0075284229,-0.0431240685,0.0075556929,-0.0074140131,0.0022600829,-0.0267807506,-0.0004245586,-0.0353911929,0.0292636044,-0.0039059804,0.0521331243,0.0454497859,-0.0012996584,-0.0317504629,0.033397086,0.0055922936,0.0552410148,-0.02612992,-0.0004038586,-0.0274707507,-0.0168924741,-0.0038998099,-0.0002088262,0.0276396591,-0.0021685082,-0.0134192966,0.0150275929,-0.0272162221,-0.0764601082,0.0658929124,-0.0358979106,0.0002109672,0.009438782,0.0767462328,0.0278132111,0.068532072,0.0306892917,0.0305662211,-0.0364814065,-0.0445421673,-0.0762101114,0.0303626675,0.0447937846,-0.0782330856,0.0365702435,-0.0264930353]}\n"
     ]
    }
   ],
   "source": [
    "# save id and embedding as a json file\n",
    "jsonl_string = df[['id', 'embedding']].to_json(orient = 'records', lines = True)\n",
    "with open('questions.json', 'w') as f:\n",
    "  f.write(jsonl_string)\n",
    "\n",
    "# show the first few lines of the json file\n",
    "! head -n 3 questions.json"
   ]
  },
  {
   "cell_type": "markdown",
   "metadata": {
    "id": "-WTNJ3FAQl_W"
   },
   "source": [
    "Then, create a new Cloud Storage bucket and copy the file to it."
   ]
  },
  {
   "cell_type": "code",
   "execution_count": 19,
   "metadata": {
    "id": "CzwDWJfzAk3n"
   },
   "outputs": [
    {
     "name": "stdout",
     "output_type": "stream",
     "text": [
      "Creating gs://product1-dev-1108-embvs-tutorial-12151647/...\n",
      "Copying file://questions.json [Content-Type=application/json]...\n",
      "/ [1 files][ 1006 KiB/ 1006 KiB]                                                \n",
      "Operation completed over 1 objects/1006.9 KiB.                                   \n"
     ]
    }
   ],
   "source": [
    "BUCKET_URI = f\"gs://{PROJECT_ID}-embvs-tutorial-{UID}\"\n",
    "! gsutil mb -l $LOCATION -p {PROJECT_ID} {BUCKET_URI}\n",
    "! gsutil cp questions.json {BUCKET_URI}"
   ]
  },
  {
   "cell_type": "markdown",
   "metadata": {
    "id": "xxdbjKw1XDxl"
   },
   "source": [
    "### Create an Index\n",
    "\n",
    "Now it's ready to load the embeddings to Vector Search. Its APIs are available under the [aiplatform](https://cloud.google.com/python/docs/reference/aiplatform/latest/google.cloud.aiplatform) package of the SDK."
   ]
  },
  {
   "cell_type": "code",
   "execution_count": null,
   "metadata": {
    "id": "8unyr9KagAoI"
   },
   "outputs": [],
   "source": [
    "# init the aiplatform package\n",
    "from google.cloud import aiplatform\n",
    "aiplatform.init(project=PROJECT_ID, location=LOCATION)"
   ]
  },
  {
   "cell_type": "markdown",
   "metadata": {
    "id": "xpMUXqWQ75uu"
   },
   "source": [
    "Create an [MatchingEngineIndex](https://cloud.google.com/python/docs/reference/aiplatform/latest/google.cloud.aiplatform.MatchingEngineIndex) with its `create_tree_ah_index` function (Matching Engine is the previous name of Vector Search)."
   ]
  },
  {
   "cell_type": "code",
   "execution_count": null,
   "metadata": {
    "id": "kKDw5VXMkXb3"
   },
   "outputs": [],
   "source": [
    "# create index\n",
    "my_index = aiplatform.MatchingEngineIndex.create_tree_ah_index(\n",
    "  display_name = f\"embvs-tutorial-index-{UID}\",\n",
    "  contents_delta_uri = BUCKET_URI,\n",
    "  dimensions = 768,\n",
    "  approximate_neighbors_count = 20,\n",
    "  distance_measure_type = \"DOT_PRODUCT_DISTANCE\",\n",
    ")"
   ]
  },
  {
   "cell_type": "markdown",
   "metadata": {
    "id": "2rFam_w9U0dI"
   },
   "source": [
    "By calling the `create_tree_ah_index` function, it starts building an Index. This will take under a few minutes if the dataset is small, otherwise about 50 minutes or more depending on the size of the dataset. You can check status of the index creation on [the Vector Search Console > INDEXES tab](https://console.cloud.google.com/vertex-ai/matching-engine/indexes).\n",
    "\n",
    "![](https://storage.googleapis.com/github-repo/img/embeddings/vs-quickstart/creating-index.png)\n",
    "\n",
    "#### The parameters for creating index\n",
    "\n",
    "- `contents_delta_uri`: The URI of Cloud Storage directory where you stored the embedding JSON files\n",
    "- `dimensions`: Dimension size of each embedding. In this case, it is 768 as we are using the embeddings from the Text Embeddings API.\n",
    "- `approximate_neighbors_count`: how many similar items we want to retrieve in typical cases\n",
    "- `distance_measure_type`: what metrics to measure distance/similarity between embeddings. In this case it's `DOT_PRODUCT_DISTANCE`\n",
    "\n",
    "See [the document](https://cloud.google.com/vertex-ai/docs/vector-search/create-manage-index) for more details on creating Index and the parameters.\n",
    "\n",
    "#### Batch Update or Streaming Update?\n",
    "There are two types of index: Index for *Batch Update* (used in this tutorial) and Index for *Streaming Updates*. The Batch Update index can be updated with a batch process whereas the Streaming Update index can be updated in real-time. The latter one is more suited for use cases where you want to add or update each embeddings in the index more often, and crucial to serve with the latest embeddings, such as e-commerce product search.\n",
    "\n"
   ]
  },
  {
   "cell_type": "markdown",
   "metadata": {
    "id": "VLOAMF50XMI8"
   },
   "source": [
    "### Create Index Endpoint and deploy the Index\n",
    "\n",
    "To use the Index, you need to create an [Index Endpoint](https://cloud.google.com/vertex-ai/docs/vector-search/deploy-index-public). It works as a server instance accepting query requests for your Index."
   ]
  },
  {
   "cell_type": "code",
   "execution_count": null,
   "metadata": {
    "id": "h6IzyufWCjU1"
   },
   "outputs": [],
   "source": [
    "# create IndexEndpoint\n",
    "my_index_endpoint = aiplatform.MatchingEngineIndexEndpoint.create(\n",
    "  display_name = f\"embvs-tutorial-index-endpoint-{UID}\",\n",
    "  public_endpoint_enabled = True,\n",
    ")"
   ]
  },
  {
   "cell_type": "markdown",
   "metadata": {},
   "source": [
    "This tutorial utilizes a [Public Endpoint](https://cloud.google.com/vertex-ai/docs/vector-search/setup/setup#choose-endpoint) and does not support [Virtual Private Cloud (VPC)](https://cloud.google.com/vpc/docs/private-services-access). Unless you have a specific requirement for VPC, we recommend using a Public Endpoint. Despite the term \"public\" in its name, it does not imply open access to the public internet. Rather, it functions like other endpoints in Vertex AI services, which are secured by default through IAM. Without explicit IAM permissions, as we have previously established, no one can access the endpoint."
   ]
  },
  {
   "cell_type": "markdown",
   "metadata": {
    "id": "8n33iO1T5hFO"
   },
   "source": [
    "With the Index Endpoint, deploy the Index by specifying an unique deployed index ID."
   ]
  },
  {
   "cell_type": "code",
   "execution_count": null,
   "metadata": {
    "id": "FcBHLifGwAWq"
   },
   "outputs": [],
   "source": [
    "DEPLOYED_INDEX_ID = f\"embvs_tutorial_deployed_{UID}\""
   ]
  },
  {
   "cell_type": "code",
   "execution_count": null,
   "metadata": {
    "id": "1jUoGhY5TPFP"
   },
   "outputs": [],
   "source": [
    "# deploy the Index to the Index Endpoint\n",
    "my_index_endpoint.deploy_index(\n",
    "  index = my_index, deployed_index_id = DEPLOYED_INDEX_ID\n",
    ")"
   ]
  },
  {
   "cell_type": "markdown",
   "metadata": {
    "id": "xu9ZmWcpXQ55"
   },
   "source": [
    "If it is the first time to deploy an Index to an Index Endpoint, it will take around 25 minutes to automatically build and initiate the backend for it. After the first deployment, it will finish in seconds. To see the status of the index deployment, open [the Vector Search Console > INDEX ENDPOINTS tab](https://console.cloud.google.com/vertex-ai/matching-engine/index-endpoints) and click the Index Endpoint.\n",
    "\n",
    "<img src=\"https://storage.googleapis.com/github-repo/img/embeddings/vs-quickstart/deploying-index.png\" width=\"70%\">"
   ]
  },
  {
   "cell_type": "markdown",
   "metadata": {
    "id": "oTi4PjjbXV-O"
   },
   "source": [
    "### Run Query\n",
    "\n",
    "Finally it's ready to use Vector Search. In the following code, it creates an embedding for a test question, and find similar question with the Vector Search."
   ]
  },
  {
   "cell_type": "code",
   "execution_count": null,
   "metadata": {
    "id": "FhNuRQqUWdfe"
   },
   "outputs": [],
   "source": [
    "test_embeddings = get_embeddings_wrapper([\"How to read JSON with Python?\"])"
   ]
  },
  {
   "cell_type": "code",
   "execution_count": null,
   "metadata": {
    "id": "Q01DGMBPXAg-"
   },
   "outputs": [],
   "source": [
    "# Test query\n",
    "response = my_index_endpoint.find_neighbors(\n",
    "  deployed_index_id = DEPLOYED_INDEX_ID,\n",
    "  queries = test_embeddings,\n",
    "  num_neighbors = 20,\n",
    ")\n",
    "\n",
    "# show the result\n",
    "import numpy as np\n",
    "for idx, neighbor in enumerate(response[0]):\n",
    "  id = np.int64(neighbor.id)\n",
    "  similar = df.query(\"id == @id\", engine = \"python\")\n",
    "  print(f\"{neighbor.distance:.4f} {similar.title.values[0]}\")"
   ]
  },
  {
   "cell_type": "markdown",
   "metadata": {
    "id": "tPDOL9caoYZ9"
   },
   "source": [
    "The `find_neighbors` function only takes milliseconds to fetch the similar items even when you have billions of items on the Index, thanks to the ScaNN algorithm. Vector Search also supports [autoscaling](https://cloud.google.com/vertex-ai/docs/vector-search/deploy-index-public#autoscaling) which can automatically resize the number of nodes based on the demands of your workloads."
   ]
  },
  {
   "cell_type": "markdown",
   "metadata": {
    "id": "DDt4D6FDyc66"
   },
   "source": [
    "# IMPORTANT: Cleaning Up\n",
    "\n",
    "In case you are using your own Cloud project, not a temporary project on Qwiklab, please make sure to delete all the Indexes, Index Endpoints and Cloud Storage buckets after finishing this tutorial. Otherwise the remaining objects would **incur unexpected costs**.\n",
    "\n",
    "If you used Workbench, you may also need to delete the Notebooks from [the console](https://console.cloud.google.com/vertex-ai/workbench)."
   ]
  },
  {
   "cell_type": "code",
   "execution_count": null,
   "metadata": {
    "id": "MEsKVzguyxNx"
   },
   "outputs": [],
   "source": [
    "# wait for a confirmation\n",
    "input(\"Press Enter to delete Index Endpoint, Index and Cloud Storage bucket:\")\n",
    "\n",
    "# delete Index Endpoint\n",
    "my_index_endpoint.undeploy_all()\n",
    "my_index_endpoint.delete(force = True)\n",
    "\n",
    "# delete Index\n",
    "my_index.delete()\n",
    "\n",
    "# delete Cloud Storage bucket\n",
    "! gsutil rm -r {BUCKET_URI}"
   ]
  },
  {
   "cell_type": "markdown",
   "metadata": {
    "id": "b8k26QOF3Ys7"
   },
   "source": [
    "# Summary\n",
    "\n",
    "## Grounding LLM outputs with Vertex AI Vector Search\n",
    "\n",
    "As we have seen, by combining the Embeddings API and Vector Search, you can use the embeddings to \"ground\" LLM outputs to real business data with low latency.\n",
    "\n",
    "For example, if an user asks a question, Embeddings API can convert it to an embedding, and issue an query on Vector Search to find similar embeddings in its index. Those embeddings represent the actual business data in the databases. As we are just retrieving the business data and not generating any artificial texts, there is no risk of having hallucinations in the result.\n",
    "\n",
    "![](https://storage.googleapis.com/gweb-cloudblog-publish/original_images/10._grounding.png)\n",
    "\n",
    "### The difference between the questions and answers\n",
    "\n",
    "In this tutorial, we have used the Stack Overflow dataset. There is a reason why we had to use it; As the dataset has many pairs of **questions and answers**, so you can just find quesions similar to your question to find answers to it.\n",
    "\n",
    "In many business use cases, the semantics (meaning) of questions and answers are different. Also, there could be cases where you would want to add variety of recommended or personalized items to the results, like product search on e-commerce sites.\n",
    "\n",
    "In these cases, the simple semantics search don't work well. It's more like a recommendation system problem where you may want to train a model (e.g. Two-Tower model) to learn the relationship between the question embedding space and answer embedding space. Also, many production systems adds reranking phase after the semantic search to achieve higher search quality. Please see [Scaling deep retrieval with TensorFlow Recommenders and Vertex AI Matching Engine](https://cloud.google.com/blog/products/ai-machine-learning/scaling-deep-retrieval-tensorflow-two-towers-architecture) to learn more.\n",
    "\n",
    "### Hybrid of semantic + keyword search\n",
    "\n",
    "Another typical challenge you will face in production system is to support keyword search combined with the semantic search. For example, for e-commerce product search, you may want to let users find product by entering its product name or model number. As LLM doesn't memorize those product names or model numbers, semantic search can't handle those \"usual\" search functionalities.\n",
    "\n",
    "[Vertex AI Search](https://cloud.google.com/blog/products/ai-machine-learning/vertex-ai-search-and-conversation-is-now-generally-available) is another product you may consider for those requirements. While Vector Search provides a simple semantic search capability only, Search provides a integrated search solution that combines semantic search, keyword search, reranking and filtering, available as an out-of-the-box tool.\n",
    "\n",
    "### What about Retrieval Augmented Generation (RAG)?\n",
    "\n",
    "In this tutorial, we have looked at the simple combination of LLM embeddings and vector search. From this starting point, you may also extend the design to [Retrieval Augmented Generation (RAG)](https://www.google.com/search?q=Retrieval+Augmented+Generation+(RAG)&oq=Retrieval+Augmented+Generation+(RAG)).\n",
    "\n",
    "RAG is a popular architecture pattern of implementing grounding with LLM with text chat UI. The idea is to have the LLM text chat UI as a frontend for the document retrieval with vector search and summarization of the result.\n",
    "\n",
    "![](https://storage.googleapis.com/gweb-cloudblog-publish/images/Figure-7-Ask_Your_Documents_Flow.max-529x434.png)\n",
    "\n",
    "There are some pros and cons between the two solutions.\n",
    "\n",
    "| | Emb + vector search | RAG |\n",
    "|---|---|---|\n",
    "| Design | simple | complex |\n",
    "| UI | Text search UI | Text chat UI |\n",
    "| Summarization of result | No | Yes |\n",
    "| Multi-turn (Context aware) | No | Yes |\n",
    "| Latency | millisecs | seconds |\n",
    "| Cost | lower | higher |\n",
    "| Hallucinations | No risk | Some risk |\n",
    "\n",
    "The Embedding + vector search pattern we have looked at with this tutorial provides simple, fast and low cost semantic search functionality with the LLM intelligence. RAG adds context-aware text chat experience and result summarization to it. While RAG provides the more \"Gen AI-ish\" experience, it also adds a risk of hallucination and higher cost and time for the text generation.\n",
    "\n",
    "To learn more about how to build a RAG solution, you may look at [Building Generative AI applications made easy with Vertex AI PaLM API and LangChain](https://cloud.google.com/blog/products/ai-machine-learning/generative-ai-applications-with-vertex-ai-palm-2-models-and-langchain).\n",
    "\n",
    "## Resources\n",
    "\n",
    "To learn more, please check out the following resources:\n",
    "\n",
    "### Documentations\n",
    "\n",
    "[Vertex AI Embeddings for Text API documentation\n",
    "](https://cloud.google.com/vertex-ai/docs/generative-ai/embeddings/get-text-embeddings)\n",
    "\n",
    "[Vector Search documentation](https://cloud.google.com/vertex-ai/docs/matching-engine/overview)\n",
    "\n",
    "### Vector Search blog posts\n",
    "\n",
    "[Vertex Matching Engine: Blazing fast and massively scalable nearest neighbor search](https://cloud.google.com/blog/products/ai-machine-learning/vertex-matching-engine-blazing-fast-and-massively-scalable-nearest-neighbor-search)\n",
    "\n",
    "[Find anything blazingly fast with Google's vector search technology](https://cloud.google.com/blog/topics/developers-practitioners/find-anything-blazingly-fast-googles-vector-search-technology)\n",
    "\n",
    "[Enabling real-time AI with Streaming Ingestion in Vertex AI](https://cloud.google.com/blog/products/ai-machine-learning/real-time-ai-with-google-cloud-vertex-ai)\n",
    "\n",
    "[Mercari leverages Google's vector search technology to create a new marketplace](https://cloud.google.com/blog/topics/developers-practitioners/mercari-leverages-googles-vector-search-technology-create-new-marketplace)\n",
    "\n",
    "[Recommending news articles using Vertex AI Matching Engine](https://cloud.google.com/blog/products/ai-machine-learning/recommending-articles-using-vertex-ai-matching-engine)\n",
    "\n",
    "[What is Multimodal Search: \"LLMs with vision\" change businesses](https://cloud.google.com/blog/products/ai-machine-learning/multimodal-generative-ai-search)"
   ]
  },
  {
   "cell_type": "markdown",
   "metadata": {
    "id": "BE1tELsH-u8N"
   },
   "source": [
    "# Utilities\n",
    "\n",
    "Sometimes it takes tens of minutes to create or deploy Indexes and you would lose connection with the Colab runtime. In that case, instead of creating or deploying new Index again, you can check [the Vector Search Console](https://console.cloud.google.com/vertex-ai/matching-engine/index-endpoints) and get the existing ones to continue."
   ]
  },
  {
   "cell_type": "markdown",
   "metadata": {
    "id": "wF_pkdpJ-yaq"
   },
   "source": [
    "## Get an existing Index\n",
    "\n",
    "To get an Index object that already exists, replace the following `[your-index-id]` with the index ID and run the cell. You can check the ID on [the Vector Search Console > INDEXES tab](https://console.cloud.google.com/vertex-ai/matching-engine/indexes)."
   ]
  },
  {
   "cell_type": "code",
   "execution_count": null,
   "metadata": {
    "id": "mEBkZZt_-0jG"
   },
   "outputs": [],
   "source": [
    "my_index_id = \"[your-index-id]\" # @param {type:\"string\"}\n",
    "my_index = aiplatform.MatchingEngineIndex(my_index_id)"
   ]
  },
  {
   "cell_type": "markdown",
   "metadata": {
    "id": "_vlgzkyw-3CI"
   },
   "source": [
    "## Get an existing Index Endpoint\n",
    "\n",
    "To get an Index Endpoint object that already exists, replace the following `[your-index-endpoint-id]` with the Index Endpoint ID and run the cell. You can check the ID on [the Vector Search Console > INDEX ENDPOINTS tab](https://console.cloud.google.com/vertex-ai/matching-engine/index-endpoints)."
   ]
  },
  {
   "cell_type": "code",
   "execution_count": null,
   "metadata": {
    "id": "E0OFnirF-6Rk"
   },
   "outputs": [],
   "source": [
    "my_index_endpoint_id = \"[your-index-endpoint-id]\" # @param {type:\"string\"}\n",
    "my_index_endpoint = aiplatform.MatchingEngineIndexEndpoint(my_index_endpoint_id)\n"
   ]
  }
 ],
 "metadata": {
  "colab": {
   "provenance": []
  },
  "environment": {
   "kernel": "python3",
   "name": "tf2-gpu.2-11.m108",
   "type": "gcloud",
   "uri": "gcr.io/deeplearning-platform-release/tf2-gpu.2-11:m108"
  },
  "kernelspec": {
   "display_name": "Python 3 (ipykernel)",
   "language": "python",
   "name": "python3"
  },
  "language_info": {
   "codemirror_mode": {
    "name": "ipython",
    "version": 3
   },
   "file_extension": ".py",
   "mimetype": "text/x-python",
   "name": "python",
   "nbconvert_exporter": "python",
   "pygments_lexer": "ipython3",
   "version": "3.10.12"
  }
 },
 "nbformat": 4,
 "nbformat_minor": 4
}
